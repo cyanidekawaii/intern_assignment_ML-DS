{
  "nbformat": 4,
  "nbformat_minor": 0,
  "metadata": {
    "colab": {
      "provenance": [],
      "collapsed_sections": [
        "NQrTv2m4MIog",
        "oubEQTfOcDCz",
        "UKmb4f1fecN-",
        "OeVjCoUdBk9_"
      ],
      "authorship_tag": "ABX9TyN+7LVWAter4Aoyh0zLe4si"
    },
    "kernelspec": {
      "name": "python3",
      "display_name": "Python 3"
    },
    "language_info": {
      "name": "python"
    }
  },
  "cells": [
    {
      "cell_type": "code",
      "execution_count": null,
      "metadata": {
        "id": "FLSpx7j6LHw0"
      },
      "outputs": [],
      "source": [
        "#importing libraries\n",
        "\n",
        "import pandas as pd\n",
        "import numpy as np\n",
        "import matplotlib.pyplot as plt\n",
        "plt.rcParams[\"figure.figsize\"] = (15, 10)\n",
        "import seaborn as sns\n",
        "#sns.set(rc={'axes.facecolor':'cornflowerblue', 'figure.facecolor':'cornflowerblue'})\n",
        "from sklearn.linear_model import LinearRegression"
      ]
    },
    {
      "cell_type": "markdown",
      "source": [
        "###### Part 0: Reading the data"
      ],
      "metadata": {
        "id": "NQrTv2m4MIog"
      }
    },
    {
      "cell_type": "code",
      "source": [
        "#reading csv file\n",
        "df = pd.read_csv(\"Fytlyff_DS_Interview.csv\")"
      ],
      "metadata": {
        "id": "so84JAKyLcjP"
      },
      "execution_count": null,
      "outputs": []
    },
    {
      "cell_type": "code",
      "source": [
        "df.info()"
      ],
      "metadata": {
        "colab": {
          "base_uri": "https://localhost:8080/"
        },
        "id": "Wa6L95x9L7cM",
        "outputId": "adc14259-6bdf-4b6c-a835-a87183a1dfcf"
      },
      "execution_count": null,
      "outputs": [
        {
          "output_type": "stream",
          "name": "stdout",
          "text": [
            "<class 'pandas.core.frame.DataFrame'>\n",
            "RangeIndex: 2160 entries, 0 to 2159\n",
            "Data columns (total 10 columns):\n",
            " #   Column                                                                                                                     Non-Null Count  Dtype  \n",
            "---  ------                                                                                                                     --------------  -----  \n",
            " 0   Year                                                                                                                       2160 non-null   int64  \n",
            " 1   Month                                                                                                                      2160 non-null   object \n",
            " 2   MobileWeb_or_Web                                                                                                           2160 non-null   object \n",
            " 3   Type_of_Customers?                                                                                                         2160 non-null   object \n",
            " 4   Where_Are_They_comming_from?                                                                                               2160 non-null   object \n",
            " 5   Which_Place_in_India?                                                                                                      2160 non-null   object \n",
            " 6   How_many_Landed_on_our_Page?                                                                                               1080 non-null   float64\n",
            " 7   How_many_Landed_on_the_our_Page_and_clicked_on_a_button?                                                                   1080 non-null   float64\n",
            " 8   How_many_Landed_on_the_our_Page_and_clicked_on_a_button_and_started_filling_the_Form?                                      2160 non-null   int64  \n",
            " 9   How_many_Landed_on_the_our_Page_and_clicked_on_a_button_and_started_filling_the_Form_and_Completed_and_submited_the_form?  2160 non-null   int64  \n",
            "dtypes: float64(2), int64(3), object(5)\n",
            "memory usage: 168.9+ KB\n"
          ]
        }
      ]
    },
    {
      "cell_type": "code",
      "source": [
        "df.head()"
      ],
      "metadata": {
        "colab": {
          "base_uri": "https://localhost:8080/",
          "height": 270
        },
        "id": "jjkLtXYoMBpN",
        "outputId": "9ace29cf-fe48-4b7a-c646-7f12275ac929"
      },
      "execution_count": null,
      "outputs": [
        {
          "output_type": "execute_result",
          "data": {
            "text/plain": [
              "   Year Month MobileWeb_or_Web Type_of_Customers?  \\\n",
              "0  2019   Jan  Desktop_Website  Existing_Customer   \n",
              "1  2019   Jan  Desktop_Website  Existing_Customer   \n",
              "2  2019   Jan  Desktop_Website  Existing_Customer   \n",
              "3  2019   Jan  Desktop_Website  Existing_Customer   \n",
              "4  2019   Jan  Desktop_Website  Existing_Customer   \n",
              "\n",
              "  Where_Are_They_comming_from? Which_Place_in_India?  \\\n",
              "0             Came_From_Google             Bangalore   \n",
              "1             Came_From_Google               Chennai   \n",
              "2             Came_From_Google              Dehradun   \n",
              "3             Came_From_Google                Indore   \n",
              "4             Came_From_Google                  Pune   \n",
              "\n",
              "   How_many_Landed_on_our_Page?  \\\n",
              "0                           NaN   \n",
              "1                           NaN   \n",
              "2                           NaN   \n",
              "3                           NaN   \n",
              "4                           NaN   \n",
              "\n",
              "   How_many_Landed_on_the_our_Page_and_clicked_on_a_button?  \\\n",
              "0                                                NaN          \n",
              "1                                                NaN          \n",
              "2                                                NaN          \n",
              "3                                                NaN          \n",
              "4                                                NaN          \n",
              "\n",
              "   How_many_Landed_on_the_our_Page_and_clicked_on_a_button_and_started_filling_the_Form?  \\\n",
              "0                                              56892                                       \n",
              "1                                              41460                                       \n",
              "2                                              55561                                       \n",
              "3                                             320923                                       \n",
              "4                                             220937                                       \n",
              "\n",
              "   How_many_Landed_on_the_our_Page_and_clicked_on_a_button_and_started_filling_the_Form_and_Completed_and_submited_the_form?  \n",
              "0                                              17178                                                                          \n",
              "1                                              11916                                                                          \n",
              "2                                              19461                                                                          \n",
              "3                                             110667                                                                          \n",
              "4                                              46033                                                                          "
            ],
            "text/html": [
              "\n",
              "  <div id=\"df-0505b1a3-e3c7-4946-9f41-ff990629bd39\">\n",
              "    <div class=\"colab-df-container\">\n",
              "      <div>\n",
              "<style scoped>\n",
              "    .dataframe tbody tr th:only-of-type {\n",
              "        vertical-align: middle;\n",
              "    }\n",
              "\n",
              "    .dataframe tbody tr th {\n",
              "        vertical-align: top;\n",
              "    }\n",
              "\n",
              "    .dataframe thead th {\n",
              "        text-align: right;\n",
              "    }\n",
              "</style>\n",
              "<table border=\"1\" class=\"dataframe\">\n",
              "  <thead>\n",
              "    <tr style=\"text-align: right;\">\n",
              "      <th></th>\n",
              "      <th>Year</th>\n",
              "      <th>Month</th>\n",
              "      <th>MobileWeb_or_Web</th>\n",
              "      <th>Type_of_Customers?</th>\n",
              "      <th>Where_Are_They_comming_from?</th>\n",
              "      <th>Which_Place_in_India?</th>\n",
              "      <th>How_many_Landed_on_our_Page?</th>\n",
              "      <th>How_many_Landed_on_the_our_Page_and_clicked_on_a_button?</th>\n",
              "      <th>How_many_Landed_on_the_our_Page_and_clicked_on_a_button_and_started_filling_the_Form?</th>\n",
              "      <th>How_many_Landed_on_the_our_Page_and_clicked_on_a_button_and_started_filling_the_Form_and_Completed_and_submited_the_form?</th>\n",
              "    </tr>\n",
              "  </thead>\n",
              "  <tbody>\n",
              "    <tr>\n",
              "      <th>0</th>\n",
              "      <td>2019</td>\n",
              "      <td>Jan</td>\n",
              "      <td>Desktop_Website</td>\n",
              "      <td>Existing_Customer</td>\n",
              "      <td>Came_From_Google</td>\n",
              "      <td>Bangalore</td>\n",
              "      <td>NaN</td>\n",
              "      <td>NaN</td>\n",
              "      <td>56892</td>\n",
              "      <td>17178</td>\n",
              "    </tr>\n",
              "    <tr>\n",
              "      <th>1</th>\n",
              "      <td>2019</td>\n",
              "      <td>Jan</td>\n",
              "      <td>Desktop_Website</td>\n",
              "      <td>Existing_Customer</td>\n",
              "      <td>Came_From_Google</td>\n",
              "      <td>Chennai</td>\n",
              "      <td>NaN</td>\n",
              "      <td>NaN</td>\n",
              "      <td>41460</td>\n",
              "      <td>11916</td>\n",
              "    </tr>\n",
              "    <tr>\n",
              "      <th>2</th>\n",
              "      <td>2019</td>\n",
              "      <td>Jan</td>\n",
              "      <td>Desktop_Website</td>\n",
              "      <td>Existing_Customer</td>\n",
              "      <td>Came_From_Google</td>\n",
              "      <td>Dehradun</td>\n",
              "      <td>NaN</td>\n",
              "      <td>NaN</td>\n",
              "      <td>55561</td>\n",
              "      <td>19461</td>\n",
              "    </tr>\n",
              "    <tr>\n",
              "      <th>3</th>\n",
              "      <td>2019</td>\n",
              "      <td>Jan</td>\n",
              "      <td>Desktop_Website</td>\n",
              "      <td>Existing_Customer</td>\n",
              "      <td>Came_From_Google</td>\n",
              "      <td>Indore</td>\n",
              "      <td>NaN</td>\n",
              "      <td>NaN</td>\n",
              "      <td>320923</td>\n",
              "      <td>110667</td>\n",
              "    </tr>\n",
              "    <tr>\n",
              "      <th>4</th>\n",
              "      <td>2019</td>\n",
              "      <td>Jan</td>\n",
              "      <td>Desktop_Website</td>\n",
              "      <td>Existing_Customer</td>\n",
              "      <td>Came_From_Google</td>\n",
              "      <td>Pune</td>\n",
              "      <td>NaN</td>\n",
              "      <td>NaN</td>\n",
              "      <td>220937</td>\n",
              "      <td>46033</td>\n",
              "    </tr>\n",
              "  </tbody>\n",
              "</table>\n",
              "</div>\n",
              "      <button class=\"colab-df-convert\" onclick=\"convertToInteractive('df-0505b1a3-e3c7-4946-9f41-ff990629bd39')\"\n",
              "              title=\"Convert this dataframe to an interactive table.\"\n",
              "              style=\"display:none;\">\n",
              "        \n",
              "  <svg xmlns=\"http://www.w3.org/2000/svg\" height=\"24px\"viewBox=\"0 0 24 24\"\n",
              "       width=\"24px\">\n",
              "    <path d=\"M0 0h24v24H0V0z\" fill=\"none\"/>\n",
              "    <path d=\"M18.56 5.44l.94 2.06.94-2.06 2.06-.94-2.06-.94-.94-2.06-.94 2.06-2.06.94zm-11 1L8.5 8.5l.94-2.06 2.06-.94-2.06-.94L8.5 2.5l-.94 2.06-2.06.94zm10 10l.94 2.06.94-2.06 2.06-.94-2.06-.94-.94-2.06-.94 2.06-2.06.94z\"/><path d=\"M17.41 7.96l-1.37-1.37c-.4-.4-.92-.59-1.43-.59-.52 0-1.04.2-1.43.59L10.3 9.45l-7.72 7.72c-.78.78-.78 2.05 0 2.83L4 21.41c.39.39.9.59 1.41.59.51 0 1.02-.2 1.41-.59l7.78-7.78 2.81-2.81c.8-.78.8-2.07 0-2.86zM5.41 20L4 18.59l7.72-7.72 1.47 1.35L5.41 20z\"/>\n",
              "  </svg>\n",
              "      </button>\n",
              "      \n",
              "  <style>\n",
              "    .colab-df-container {\n",
              "      display:flex;\n",
              "      flex-wrap:wrap;\n",
              "      gap: 12px;\n",
              "    }\n",
              "\n",
              "    .colab-df-convert {\n",
              "      background-color: #E8F0FE;\n",
              "      border: none;\n",
              "      border-radius: 50%;\n",
              "      cursor: pointer;\n",
              "      display: none;\n",
              "      fill: #1967D2;\n",
              "      height: 32px;\n",
              "      padding: 0 0 0 0;\n",
              "      width: 32px;\n",
              "    }\n",
              "\n",
              "    .colab-df-convert:hover {\n",
              "      background-color: #E2EBFA;\n",
              "      box-shadow: 0px 1px 2px rgba(60, 64, 67, 0.3), 0px 1px 3px 1px rgba(60, 64, 67, 0.15);\n",
              "      fill: #174EA6;\n",
              "    }\n",
              "\n",
              "    [theme=dark] .colab-df-convert {\n",
              "      background-color: #3B4455;\n",
              "      fill: #D2E3FC;\n",
              "    }\n",
              "\n",
              "    [theme=dark] .colab-df-convert:hover {\n",
              "      background-color: #434B5C;\n",
              "      box-shadow: 0px 1px 3px 1px rgba(0, 0, 0, 0.15);\n",
              "      filter: drop-shadow(0px 1px 2px rgba(0, 0, 0, 0.3));\n",
              "      fill: #FFFFFF;\n",
              "    }\n",
              "  </style>\n",
              "\n",
              "      <script>\n",
              "        const buttonEl =\n",
              "          document.querySelector('#df-0505b1a3-e3c7-4946-9f41-ff990629bd39 button.colab-df-convert');\n",
              "        buttonEl.style.display =\n",
              "          google.colab.kernel.accessAllowed ? 'block' : 'none';\n",
              "\n",
              "        async function convertToInteractive(key) {\n",
              "          const element = document.querySelector('#df-0505b1a3-e3c7-4946-9f41-ff990629bd39');\n",
              "          const dataTable =\n",
              "            await google.colab.kernel.invokeFunction('convertToInteractive',\n",
              "                                                     [key], {});\n",
              "          if (!dataTable) return;\n",
              "\n",
              "          const docLinkHtml = 'Like what you see? Visit the ' +\n",
              "            '<a target=\"_blank\" href=https://colab.research.google.com/notebooks/data_table.ipynb>data table notebook</a>'\n",
              "            + ' to learn more about interactive tables.';\n",
              "          element.innerHTML = '';\n",
              "          dataTable['output_type'] = 'display_data';\n",
              "          await google.colab.output.renderOutput(dataTable, element);\n",
              "          const docLink = document.createElement('div');\n",
              "          docLink.innerHTML = docLinkHtml;\n",
              "          element.appendChild(docLink);\n",
              "        }\n",
              "      </script>\n",
              "    </div>\n",
              "  </div>\n",
              "  "
            ]
          },
          "metadata": {},
          "execution_count": 4
        }
      ]
    },
    {
      "cell_type": "markdown",
      "source": [
        "###### Part 1: Data Cleaning"
      ],
      "metadata": {
        "id": "oubEQTfOcDCz"
      }
    },
    {
      "cell_type": "code",
      "source": [
        "def clean(dataframe):\n",
        "  dataframe = dataframe.fillna(0)#fill null values with zero\n",
        "  dataframe = dataframe.replace(['Jan','Feb','Mar','Apr','May','Jun','Jul','Aug','Sep','Oct','Nov','Dec'],[1,2,3,4,5,6,7,8,9,10,11,12])#change months to numeric values, still categorical\n",
        "  dataframe = dataframe.replace(['Came_From_Google','Landed_on_the_page_Directly'],['Google', 'Direct_traffic'])\n",
        "  return dataframe\n",
        "\n",
        "clean_df = clean(df)"
      ],
      "metadata": {
        "id": "802Tm_2rWZXH"
      },
      "execution_count": null,
      "outputs": []
    },
    {
      "cell_type": "code",
      "source": [
        "clean_df"
      ],
      "metadata": {
        "colab": {
          "base_uri": "https://localhost:8080/",
          "height": 487
        },
        "id": "dqhmQOVXbMS4",
        "outputId": "ef39aae8-2fd7-4f2f-bfb7-b0cd4495e10e"
      },
      "execution_count": null,
      "outputs": [
        {
          "output_type": "execute_result",
          "data": {
            "text/plain": [
              "      Year  Month MobileWeb_or_Web Type_of_Customers?  \\\n",
              "0     2019      1  Desktop_Website  Existing_Customer   \n",
              "1     2019      1  Desktop_Website  Existing_Customer   \n",
              "2     2019      1  Desktop_Website  Existing_Customer   \n",
              "3     2019      1  Desktop_Website  Existing_Customer   \n",
              "4     2019      1  Desktop_Website  Existing_Customer   \n",
              "...    ...    ...              ...                ...   \n",
              "2155  2021     12   Mobile_website       New_Customer   \n",
              "2156  2021     12   Mobile_website       New_Customer   \n",
              "2157  2021     12   Mobile_website       New_Customer   \n",
              "2158  2021     12   Mobile_website       New_Customer   \n",
              "2159  2021     12   Mobile_website       New_Customer   \n",
              "\n",
              "     Where_Are_They_comming_from? Which_Place_in_India?  \\\n",
              "0                          Google             Bangalore   \n",
              "1                          Google               Chennai   \n",
              "2                          Google              Dehradun   \n",
              "3                          Google                Indore   \n",
              "4                          Google                  Pune   \n",
              "...                           ...                   ...   \n",
              "2155         Unidentified_Sources             Bangalore   \n",
              "2156         Unidentified_Sources               Chennai   \n",
              "2157         Unidentified_Sources              Dehradun   \n",
              "2158         Unidentified_Sources                Indore   \n",
              "2159         Unidentified_Sources                  Pune   \n",
              "\n",
              "      How_many_Landed_on_our_Page?  \\\n",
              "0                              0.0   \n",
              "1                              0.0   \n",
              "2                              0.0   \n",
              "3                              0.0   \n",
              "4                              0.0   \n",
              "...                            ...   \n",
              "2155                       67299.0   \n",
              "2156                      430294.0   \n",
              "2157                       48713.0   \n",
              "2158                      593021.0   \n",
              "2159                      372897.0   \n",
              "\n",
              "      How_many_Landed_on_the_our_Page_and_clicked_on_a_button?  \\\n",
              "0                                                   0.0          \n",
              "1                                                   0.0          \n",
              "2                                                   0.0          \n",
              "3                                                   0.0          \n",
              "4                                                   0.0          \n",
              "...                                                 ...          \n",
              "2155                                            21255.0          \n",
              "2156                                           156510.0          \n",
              "2157                                            27770.0          \n",
              "2158                                           310836.0          \n",
              "2159                                           123057.0          \n",
              "\n",
              "      How_many_Landed_on_the_our_Page_and_clicked_on_a_button_and_started_filling_the_Form?  \\\n",
              "0                                                 56892                                       \n",
              "1                                                 41460                                       \n",
              "2                                                 55561                                       \n",
              "3                                                320923                                       \n",
              "4                                                220937                                       \n",
              "...                                                 ...                                       \n",
              "2155                                               6984                                       \n",
              "2156                                              46676                                       \n",
              "2157                                               7515                                       \n",
              "2158                                             161575                                       \n",
              "2159                                              48802                                       \n",
              "\n",
              "      How_many_Landed_on_the_our_Page_and_clicked_on_a_button_and_started_filling_the_Form_and_Completed_and_submited_the_form?  \n",
              "0                                                 17178                                                                          \n",
              "1                                                 11916                                                                          \n",
              "2                                                 19461                                                                          \n",
              "3                                                110667                                                                          \n",
              "4                                                 46033                                                                          \n",
              "...                                                 ...                                                                          \n",
              "2155                                               1882                                                                          \n",
              "2156                                              16703                                                                          \n",
              "2157                                               2089                                                                          \n",
              "2158                                              78465                                                                          \n",
              "2159                                              19441                                                                          \n",
              "\n",
              "[2160 rows x 10 columns]"
            ],
            "text/html": [
              "\n",
              "  <div id=\"df-4212f4c9-0b4a-4b53-9d62-cb212e3291c8\">\n",
              "    <div class=\"colab-df-container\">\n",
              "      <div>\n",
              "<style scoped>\n",
              "    .dataframe tbody tr th:only-of-type {\n",
              "        vertical-align: middle;\n",
              "    }\n",
              "\n",
              "    .dataframe tbody tr th {\n",
              "        vertical-align: top;\n",
              "    }\n",
              "\n",
              "    .dataframe thead th {\n",
              "        text-align: right;\n",
              "    }\n",
              "</style>\n",
              "<table border=\"1\" class=\"dataframe\">\n",
              "  <thead>\n",
              "    <tr style=\"text-align: right;\">\n",
              "      <th></th>\n",
              "      <th>Year</th>\n",
              "      <th>Month</th>\n",
              "      <th>MobileWeb_or_Web</th>\n",
              "      <th>Type_of_Customers?</th>\n",
              "      <th>Where_Are_They_comming_from?</th>\n",
              "      <th>Which_Place_in_India?</th>\n",
              "      <th>How_many_Landed_on_our_Page?</th>\n",
              "      <th>How_many_Landed_on_the_our_Page_and_clicked_on_a_button?</th>\n",
              "      <th>How_many_Landed_on_the_our_Page_and_clicked_on_a_button_and_started_filling_the_Form?</th>\n",
              "      <th>How_many_Landed_on_the_our_Page_and_clicked_on_a_button_and_started_filling_the_Form_and_Completed_and_submited_the_form?</th>\n",
              "    </tr>\n",
              "  </thead>\n",
              "  <tbody>\n",
              "    <tr>\n",
              "      <th>0</th>\n",
              "      <td>2019</td>\n",
              "      <td>1</td>\n",
              "      <td>Desktop_Website</td>\n",
              "      <td>Existing_Customer</td>\n",
              "      <td>Google</td>\n",
              "      <td>Bangalore</td>\n",
              "      <td>0.0</td>\n",
              "      <td>0.0</td>\n",
              "      <td>56892</td>\n",
              "      <td>17178</td>\n",
              "    </tr>\n",
              "    <tr>\n",
              "      <th>1</th>\n",
              "      <td>2019</td>\n",
              "      <td>1</td>\n",
              "      <td>Desktop_Website</td>\n",
              "      <td>Existing_Customer</td>\n",
              "      <td>Google</td>\n",
              "      <td>Chennai</td>\n",
              "      <td>0.0</td>\n",
              "      <td>0.0</td>\n",
              "      <td>41460</td>\n",
              "      <td>11916</td>\n",
              "    </tr>\n",
              "    <tr>\n",
              "      <th>2</th>\n",
              "      <td>2019</td>\n",
              "      <td>1</td>\n",
              "      <td>Desktop_Website</td>\n",
              "      <td>Existing_Customer</td>\n",
              "      <td>Google</td>\n",
              "      <td>Dehradun</td>\n",
              "      <td>0.0</td>\n",
              "      <td>0.0</td>\n",
              "      <td>55561</td>\n",
              "      <td>19461</td>\n",
              "    </tr>\n",
              "    <tr>\n",
              "      <th>3</th>\n",
              "      <td>2019</td>\n",
              "      <td>1</td>\n",
              "      <td>Desktop_Website</td>\n",
              "      <td>Existing_Customer</td>\n",
              "      <td>Google</td>\n",
              "      <td>Indore</td>\n",
              "      <td>0.0</td>\n",
              "      <td>0.0</td>\n",
              "      <td>320923</td>\n",
              "      <td>110667</td>\n",
              "    </tr>\n",
              "    <tr>\n",
              "      <th>4</th>\n",
              "      <td>2019</td>\n",
              "      <td>1</td>\n",
              "      <td>Desktop_Website</td>\n",
              "      <td>Existing_Customer</td>\n",
              "      <td>Google</td>\n",
              "      <td>Pune</td>\n",
              "      <td>0.0</td>\n",
              "      <td>0.0</td>\n",
              "      <td>220937</td>\n",
              "      <td>46033</td>\n",
              "    </tr>\n",
              "    <tr>\n",
              "      <th>...</th>\n",
              "      <td>...</td>\n",
              "      <td>...</td>\n",
              "      <td>...</td>\n",
              "      <td>...</td>\n",
              "      <td>...</td>\n",
              "      <td>...</td>\n",
              "      <td>...</td>\n",
              "      <td>...</td>\n",
              "      <td>...</td>\n",
              "      <td>...</td>\n",
              "    </tr>\n",
              "    <tr>\n",
              "      <th>2155</th>\n",
              "      <td>2021</td>\n",
              "      <td>12</td>\n",
              "      <td>Mobile_website</td>\n",
              "      <td>New_Customer</td>\n",
              "      <td>Unidentified_Sources</td>\n",
              "      <td>Bangalore</td>\n",
              "      <td>67299.0</td>\n",
              "      <td>21255.0</td>\n",
              "      <td>6984</td>\n",
              "      <td>1882</td>\n",
              "    </tr>\n",
              "    <tr>\n",
              "      <th>2156</th>\n",
              "      <td>2021</td>\n",
              "      <td>12</td>\n",
              "      <td>Mobile_website</td>\n",
              "      <td>New_Customer</td>\n",
              "      <td>Unidentified_Sources</td>\n",
              "      <td>Chennai</td>\n",
              "      <td>430294.0</td>\n",
              "      <td>156510.0</td>\n",
              "      <td>46676</td>\n",
              "      <td>16703</td>\n",
              "    </tr>\n",
              "    <tr>\n",
              "      <th>2157</th>\n",
              "      <td>2021</td>\n",
              "      <td>12</td>\n",
              "      <td>Mobile_website</td>\n",
              "      <td>New_Customer</td>\n",
              "      <td>Unidentified_Sources</td>\n",
              "      <td>Dehradun</td>\n",
              "      <td>48713.0</td>\n",
              "      <td>27770.0</td>\n",
              "      <td>7515</td>\n",
              "      <td>2089</td>\n",
              "    </tr>\n",
              "    <tr>\n",
              "      <th>2158</th>\n",
              "      <td>2021</td>\n",
              "      <td>12</td>\n",
              "      <td>Mobile_website</td>\n",
              "      <td>New_Customer</td>\n",
              "      <td>Unidentified_Sources</td>\n",
              "      <td>Indore</td>\n",
              "      <td>593021.0</td>\n",
              "      <td>310836.0</td>\n",
              "      <td>161575</td>\n",
              "      <td>78465</td>\n",
              "    </tr>\n",
              "    <tr>\n",
              "      <th>2159</th>\n",
              "      <td>2021</td>\n",
              "      <td>12</td>\n",
              "      <td>Mobile_website</td>\n",
              "      <td>New_Customer</td>\n",
              "      <td>Unidentified_Sources</td>\n",
              "      <td>Pune</td>\n",
              "      <td>372897.0</td>\n",
              "      <td>123057.0</td>\n",
              "      <td>48802</td>\n",
              "      <td>19441</td>\n",
              "    </tr>\n",
              "  </tbody>\n",
              "</table>\n",
              "<p>2160 rows × 10 columns</p>\n",
              "</div>\n",
              "      <button class=\"colab-df-convert\" onclick=\"convertToInteractive('df-4212f4c9-0b4a-4b53-9d62-cb212e3291c8')\"\n",
              "              title=\"Convert this dataframe to an interactive table.\"\n",
              "              style=\"display:none;\">\n",
              "        \n",
              "  <svg xmlns=\"http://www.w3.org/2000/svg\" height=\"24px\"viewBox=\"0 0 24 24\"\n",
              "       width=\"24px\">\n",
              "    <path d=\"M0 0h24v24H0V0z\" fill=\"none\"/>\n",
              "    <path d=\"M18.56 5.44l.94 2.06.94-2.06 2.06-.94-2.06-.94-.94-2.06-.94 2.06-2.06.94zm-11 1L8.5 8.5l.94-2.06 2.06-.94-2.06-.94L8.5 2.5l-.94 2.06-2.06.94zm10 10l.94 2.06.94-2.06 2.06-.94-2.06-.94-.94-2.06-.94 2.06-2.06.94z\"/><path d=\"M17.41 7.96l-1.37-1.37c-.4-.4-.92-.59-1.43-.59-.52 0-1.04.2-1.43.59L10.3 9.45l-7.72 7.72c-.78.78-.78 2.05 0 2.83L4 21.41c.39.39.9.59 1.41.59.51 0 1.02-.2 1.41-.59l7.78-7.78 2.81-2.81c.8-.78.8-2.07 0-2.86zM5.41 20L4 18.59l7.72-7.72 1.47 1.35L5.41 20z\"/>\n",
              "  </svg>\n",
              "      </button>\n",
              "      \n",
              "  <style>\n",
              "    .colab-df-container {\n",
              "      display:flex;\n",
              "      flex-wrap:wrap;\n",
              "      gap: 12px;\n",
              "    }\n",
              "\n",
              "    .colab-df-convert {\n",
              "      background-color: #E8F0FE;\n",
              "      border: none;\n",
              "      border-radius: 50%;\n",
              "      cursor: pointer;\n",
              "      display: none;\n",
              "      fill: #1967D2;\n",
              "      height: 32px;\n",
              "      padding: 0 0 0 0;\n",
              "      width: 32px;\n",
              "    }\n",
              "\n",
              "    .colab-df-convert:hover {\n",
              "      background-color: #E2EBFA;\n",
              "      box-shadow: 0px 1px 2px rgba(60, 64, 67, 0.3), 0px 1px 3px 1px rgba(60, 64, 67, 0.15);\n",
              "      fill: #174EA6;\n",
              "    }\n",
              "\n",
              "    [theme=dark] .colab-df-convert {\n",
              "      background-color: #3B4455;\n",
              "      fill: #D2E3FC;\n",
              "    }\n",
              "\n",
              "    [theme=dark] .colab-df-convert:hover {\n",
              "      background-color: #434B5C;\n",
              "      box-shadow: 0px 1px 3px 1px rgba(0, 0, 0, 0.15);\n",
              "      filter: drop-shadow(0px 1px 2px rgba(0, 0, 0, 0.3));\n",
              "      fill: #FFFFFF;\n",
              "    }\n",
              "  </style>\n",
              "\n",
              "      <script>\n",
              "        const buttonEl =\n",
              "          document.querySelector('#df-4212f4c9-0b4a-4b53-9d62-cb212e3291c8 button.colab-df-convert');\n",
              "        buttonEl.style.display =\n",
              "          google.colab.kernel.accessAllowed ? 'block' : 'none';\n",
              "\n",
              "        async function convertToInteractive(key) {\n",
              "          const element = document.querySelector('#df-4212f4c9-0b4a-4b53-9d62-cb212e3291c8');\n",
              "          const dataTable =\n",
              "            await google.colab.kernel.invokeFunction('convertToInteractive',\n",
              "                                                     [key], {});\n",
              "          if (!dataTable) return;\n",
              "\n",
              "          const docLinkHtml = 'Like what you see? Visit the ' +\n",
              "            '<a target=\"_blank\" href=https://colab.research.google.com/notebooks/data_table.ipynb>data table notebook</a>'\n",
              "            + ' to learn more about interactive tables.';\n",
              "          element.innerHTML = '';\n",
              "          dataTable['output_type'] = 'display_data';\n",
              "          await google.colab.output.renderOutput(dataTable, element);\n",
              "          const docLink = document.createElement('div');\n",
              "          docLink.innerHTML = docLinkHtml;\n",
              "          element.appendChild(docLink);\n",
              "        }\n",
              "      </script>\n",
              "    </div>\n",
              "  </div>\n",
              "  "
            ]
          },
          "metadata": {},
          "execution_count": 6
        }
      ]
    },
    {
      "cell_type": "markdown",
      "source": [
        "###### Part 2: desc stats"
      ],
      "metadata": {
        "id": "UKmb4f1fecN-"
      }
    },
    {
      "cell_type": "code",
      "source": [
        "clean_df.describe()#descriptive statistics of each numeric variable"
      ],
      "metadata": {
        "colab": {
          "base_uri": "https://localhost:8080/",
          "height": 364
        },
        "id": "EmYczzCSemYC",
        "outputId": "885173b2-546c-4731-f0e7-0f065b13f27a"
      },
      "execution_count": null,
      "outputs": [
        {
          "output_type": "execute_result",
          "data": {
            "text/plain": [
              "              Year        Month  How_many_Landed_on_our_Page?  \\\n",
              "count  2160.000000  2160.000000                  2.160000e+03   \n",
              "mean   2020.000000     6.500000                  3.922474e+05   \n",
              "std       0.816686     3.452852                  9.555773e+05   \n",
              "min    2019.000000     1.000000                  0.000000e+00   \n",
              "25%    2019.000000     3.750000                  0.000000e+00   \n",
              "50%    2020.000000     6.500000                  1.228350e+04   \n",
              "75%    2021.000000     9.250000                  3.816422e+05   \n",
              "max    2021.000000    12.000000                  1.127413e+07   \n",
              "\n",
              "       How_many_Landed_on_the_our_Page_and_clicked_on_a_button?  \\\n",
              "count                                       2.160000e+03          \n",
              "mean                                        1.792281e+05          \n",
              "std                                         3.951562e+05          \n",
              "min                                         0.000000e+00          \n",
              "25%                                         0.000000e+00          \n",
              "50%                                         4.212500e+03          \n",
              "75%                                         1.730452e+05          \n",
              "max                                         4.079301e+06          \n",
              "\n",
              "       How_many_Landed_on_the_our_Page_and_clicked_on_a_button_and_started_filling_the_Form?  \\\n",
              "count                                       2.160000e+03                                       \n",
              "mean                                        1.510725e+05                                       \n",
              "std                                         2.353538e+05                                       \n",
              "min                                         3.761000e+03                                       \n",
              "25%                                         3.360800e+04                                       \n",
              "50%                                         7.064950e+04                                       \n",
              "75%                                         1.659590e+05                                       \n",
              "max                                         3.022858e+06                                       \n",
              "\n",
              "       How_many_Landed_on_the_our_Page_and_clicked_on_a_button_and_started_filling_the_Form_and_Completed_and_submited_the_form?  \n",
              "count                                       2.160000e+03                                                                          \n",
              "mean                                        5.922129e+04                                                                          \n",
              "std                                         8.646564e+04                                                                          \n",
              "min                                         7.660000e+02                                                                          \n",
              "25%                                         1.157725e+04                                                                          \n",
              "50%                                         2.700450e+04                                                                          \n",
              "75%                                         7.185350e+04                                                                          \n",
              "max                                         1.251258e+06                                                                          "
            ],
            "text/html": [
              "\n",
              "  <div id=\"df-84708212-c8cb-4493-8e93-d253d14f2fb5\">\n",
              "    <div class=\"colab-df-container\">\n",
              "      <div>\n",
              "<style scoped>\n",
              "    .dataframe tbody tr th:only-of-type {\n",
              "        vertical-align: middle;\n",
              "    }\n",
              "\n",
              "    .dataframe tbody tr th {\n",
              "        vertical-align: top;\n",
              "    }\n",
              "\n",
              "    .dataframe thead th {\n",
              "        text-align: right;\n",
              "    }\n",
              "</style>\n",
              "<table border=\"1\" class=\"dataframe\">\n",
              "  <thead>\n",
              "    <tr style=\"text-align: right;\">\n",
              "      <th></th>\n",
              "      <th>Year</th>\n",
              "      <th>Month</th>\n",
              "      <th>How_many_Landed_on_our_Page?</th>\n",
              "      <th>How_many_Landed_on_the_our_Page_and_clicked_on_a_button?</th>\n",
              "      <th>How_many_Landed_on_the_our_Page_and_clicked_on_a_button_and_started_filling_the_Form?</th>\n",
              "      <th>How_many_Landed_on_the_our_Page_and_clicked_on_a_button_and_started_filling_the_Form_and_Completed_and_submited_the_form?</th>\n",
              "    </tr>\n",
              "  </thead>\n",
              "  <tbody>\n",
              "    <tr>\n",
              "      <th>count</th>\n",
              "      <td>2160.000000</td>\n",
              "      <td>2160.000000</td>\n",
              "      <td>2.160000e+03</td>\n",
              "      <td>2.160000e+03</td>\n",
              "      <td>2.160000e+03</td>\n",
              "      <td>2.160000e+03</td>\n",
              "    </tr>\n",
              "    <tr>\n",
              "      <th>mean</th>\n",
              "      <td>2020.000000</td>\n",
              "      <td>6.500000</td>\n",
              "      <td>3.922474e+05</td>\n",
              "      <td>1.792281e+05</td>\n",
              "      <td>1.510725e+05</td>\n",
              "      <td>5.922129e+04</td>\n",
              "    </tr>\n",
              "    <tr>\n",
              "      <th>std</th>\n",
              "      <td>0.816686</td>\n",
              "      <td>3.452852</td>\n",
              "      <td>9.555773e+05</td>\n",
              "      <td>3.951562e+05</td>\n",
              "      <td>2.353538e+05</td>\n",
              "      <td>8.646564e+04</td>\n",
              "    </tr>\n",
              "    <tr>\n",
              "      <th>min</th>\n",
              "      <td>2019.000000</td>\n",
              "      <td>1.000000</td>\n",
              "      <td>0.000000e+00</td>\n",
              "      <td>0.000000e+00</td>\n",
              "      <td>3.761000e+03</td>\n",
              "      <td>7.660000e+02</td>\n",
              "    </tr>\n",
              "    <tr>\n",
              "      <th>25%</th>\n",
              "      <td>2019.000000</td>\n",
              "      <td>3.750000</td>\n",
              "      <td>0.000000e+00</td>\n",
              "      <td>0.000000e+00</td>\n",
              "      <td>3.360800e+04</td>\n",
              "      <td>1.157725e+04</td>\n",
              "    </tr>\n",
              "    <tr>\n",
              "      <th>50%</th>\n",
              "      <td>2020.000000</td>\n",
              "      <td>6.500000</td>\n",
              "      <td>1.228350e+04</td>\n",
              "      <td>4.212500e+03</td>\n",
              "      <td>7.064950e+04</td>\n",
              "      <td>2.700450e+04</td>\n",
              "    </tr>\n",
              "    <tr>\n",
              "      <th>75%</th>\n",
              "      <td>2021.000000</td>\n",
              "      <td>9.250000</td>\n",
              "      <td>3.816422e+05</td>\n",
              "      <td>1.730452e+05</td>\n",
              "      <td>1.659590e+05</td>\n",
              "      <td>7.185350e+04</td>\n",
              "    </tr>\n",
              "    <tr>\n",
              "      <th>max</th>\n",
              "      <td>2021.000000</td>\n",
              "      <td>12.000000</td>\n",
              "      <td>1.127413e+07</td>\n",
              "      <td>4.079301e+06</td>\n",
              "      <td>3.022858e+06</td>\n",
              "      <td>1.251258e+06</td>\n",
              "    </tr>\n",
              "  </tbody>\n",
              "</table>\n",
              "</div>\n",
              "      <button class=\"colab-df-convert\" onclick=\"convertToInteractive('df-84708212-c8cb-4493-8e93-d253d14f2fb5')\"\n",
              "              title=\"Convert this dataframe to an interactive table.\"\n",
              "              style=\"display:none;\">\n",
              "        \n",
              "  <svg xmlns=\"http://www.w3.org/2000/svg\" height=\"24px\"viewBox=\"0 0 24 24\"\n",
              "       width=\"24px\">\n",
              "    <path d=\"M0 0h24v24H0V0z\" fill=\"none\"/>\n",
              "    <path d=\"M18.56 5.44l.94 2.06.94-2.06 2.06-.94-2.06-.94-.94-2.06-.94 2.06-2.06.94zm-11 1L8.5 8.5l.94-2.06 2.06-.94-2.06-.94L8.5 2.5l-.94 2.06-2.06.94zm10 10l.94 2.06.94-2.06 2.06-.94-2.06-.94-.94-2.06-.94 2.06-2.06.94z\"/><path d=\"M17.41 7.96l-1.37-1.37c-.4-.4-.92-.59-1.43-.59-.52 0-1.04.2-1.43.59L10.3 9.45l-7.72 7.72c-.78.78-.78 2.05 0 2.83L4 21.41c.39.39.9.59 1.41.59.51 0 1.02-.2 1.41-.59l7.78-7.78 2.81-2.81c.8-.78.8-2.07 0-2.86zM5.41 20L4 18.59l7.72-7.72 1.47 1.35L5.41 20z\"/>\n",
              "  </svg>\n",
              "      </button>\n",
              "      \n",
              "  <style>\n",
              "    .colab-df-container {\n",
              "      display:flex;\n",
              "      flex-wrap:wrap;\n",
              "      gap: 12px;\n",
              "    }\n",
              "\n",
              "    .colab-df-convert {\n",
              "      background-color: #E8F0FE;\n",
              "      border: none;\n",
              "      border-radius: 50%;\n",
              "      cursor: pointer;\n",
              "      display: none;\n",
              "      fill: #1967D2;\n",
              "      height: 32px;\n",
              "      padding: 0 0 0 0;\n",
              "      width: 32px;\n",
              "    }\n",
              "\n",
              "    .colab-df-convert:hover {\n",
              "      background-color: #E2EBFA;\n",
              "      box-shadow: 0px 1px 2px rgba(60, 64, 67, 0.3), 0px 1px 3px 1px rgba(60, 64, 67, 0.15);\n",
              "      fill: #174EA6;\n",
              "    }\n",
              "\n",
              "    [theme=dark] .colab-df-convert {\n",
              "      background-color: #3B4455;\n",
              "      fill: #D2E3FC;\n",
              "    }\n",
              "\n",
              "    [theme=dark] .colab-df-convert:hover {\n",
              "      background-color: #434B5C;\n",
              "      box-shadow: 0px 1px 3px 1px rgba(0, 0, 0, 0.15);\n",
              "      filter: drop-shadow(0px 1px 2px rgba(0, 0, 0, 0.3));\n",
              "      fill: #FFFFFF;\n",
              "    }\n",
              "  </style>\n",
              "\n",
              "      <script>\n",
              "        const buttonEl =\n",
              "          document.querySelector('#df-84708212-c8cb-4493-8e93-d253d14f2fb5 button.colab-df-convert');\n",
              "        buttonEl.style.display =\n",
              "          google.colab.kernel.accessAllowed ? 'block' : 'none';\n",
              "\n",
              "        async function convertToInteractive(key) {\n",
              "          const element = document.querySelector('#df-84708212-c8cb-4493-8e93-d253d14f2fb5');\n",
              "          const dataTable =\n",
              "            await google.colab.kernel.invokeFunction('convertToInteractive',\n",
              "                                                     [key], {});\n",
              "          if (!dataTable) return;\n",
              "\n",
              "          const docLinkHtml = 'Like what you see? Visit the ' +\n",
              "            '<a target=\"_blank\" href=https://colab.research.google.com/notebooks/data_table.ipynb>data table notebook</a>'\n",
              "            + ' to learn more about interactive tables.';\n",
              "          element.innerHTML = '';\n",
              "          dataTable['output_type'] = 'display_data';\n",
              "          await google.colab.output.renderOutput(dataTable, element);\n",
              "          const docLink = document.createElement('div');\n",
              "          docLink.innerHTML = docLinkHtml;\n",
              "          element.appendChild(docLink);\n",
              "        }\n",
              "      </script>\n",
              "    </div>\n",
              "  </div>\n",
              "  "
            ]
          },
          "metadata": {},
          "execution_count": 7
        }
      ]
    },
    {
      "cell_type": "code",
      "source": [
        "list(clean_df)#list of all columns"
      ],
      "metadata": {
        "colab": {
          "base_uri": "https://localhost:8080/"
        },
        "id": "qf6agniGjJ8D",
        "outputId": "cbc8c46d-2a69-4c3c-ae4e-2b3bbf8e3be3"
      },
      "execution_count": null,
      "outputs": [
        {
          "output_type": "execute_result",
          "data": {
            "text/plain": [
              "['Year',\n",
              " 'Month',\n",
              " 'MobileWeb_or_Web',\n",
              " 'Type_of_Customers?',\n",
              " 'Where_Are_They_comming_from?',\n",
              " 'Which_Place_in_India?',\n",
              " 'How_many_Landed_on_our_Page?',\n",
              " 'How_many_Landed_on_the_our_Page_and_clicked_on_a_button?',\n",
              " 'How_many_Landed_on_the_our_Page_and_clicked_on_a_button_and_started_filling_the_Form?',\n",
              " 'How_many_Landed_on_the_our_Page_and_clicked_on_a_button_and_started_filling_the_Form_and_Completed_and_submited_the_form?']"
            ]
          },
          "metadata": {},
          "execution_count": 8
        }
      ]
    },
    {
      "cell_type": "code",
      "source": [
        "unique_list = []\n",
        "for var in list(clean_df):\n",
        "  unique_list.append(clean_df[var].unique())"
      ],
      "metadata": {
        "id": "UkceMxD6h09n"
      },
      "execution_count": null,
      "outputs": []
    },
    {
      "cell_type": "code",
      "source": [
        "unique_list"
      ],
      "metadata": {
        "colab": {
          "base_uri": "https://localhost:8080/"
        },
        "id": "nOLWjFQ-h7ML",
        "outputId": "e9653b8f-c631-4105-ffa7-a4cf86860338"
      },
      "execution_count": null,
      "outputs": [
        {
          "output_type": "execute_result",
          "data": {
            "text/plain": [
              "[array([2019, 2020, 2021]),\n",
              " array([ 1,  2,  3,  4,  5,  6,  7,  8,  9, 10, 11, 12]),\n",
              " array(['Desktop_Website', 'Mobile_website'], dtype=object),\n",
              " array(['Existing_Customer', 'New_Customer'], dtype=object),\n",
              " array(['Google', 'Direct_traffic', 'Unidentified_Sources'], dtype=object),\n",
              " array(['Bangalore', 'Chennai', 'Dehradun', 'Indore', 'Pune'], dtype=object),\n",
              " array([     0., 112869., 110397., ...,  48713., 593021., 372897.]),\n",
              " array([     0.,  91801.,  87429., ...,  27770., 310836., 123057.]),\n",
              " array([ 56892,  41460,  55561, ...,   7515, 161575,  48802]),\n",
              " array([17178, 11916, 19461, ...,  2089, 78465, 19441])]"
            ]
          },
          "metadata": {},
          "execution_count": 10
        }
      ]
    },
    {
      "cell_type": "code",
      "source": [
        "unique_list[:6]#list of all the unique values & data types present in the non-numeric columns"
      ],
      "metadata": {
        "colab": {
          "base_uri": "https://localhost:8080/"
        },
        "id": "7WzRbnFeh96U",
        "outputId": "b928fad4-b286-416b-d69b-f141c15cde24"
      },
      "execution_count": null,
      "outputs": [
        {
          "output_type": "execute_result",
          "data": {
            "text/plain": [
              "[array([2019, 2020, 2021]),\n",
              " array([ 1,  2,  3,  4,  5,  6,  7,  8,  9, 10, 11, 12]),\n",
              " array(['Desktop_Website', 'Mobile_website'], dtype=object),\n",
              " array(['Existing_Customer', 'New_Customer'], dtype=object),\n",
              " array(['Google', 'Direct_traffic', 'Unidentified_Sources'], dtype=object),\n",
              " array(['Bangalore', 'Chennai', 'Dehradun', 'Indore', 'Pune'], dtype=object)]"
            ]
          },
          "metadata": {},
          "execution_count": 11
        }
      ]
    },
    {
      "cell_type": "code",
      "source": [],
      "metadata": {
        "id": "q1rlKRGokW4P"
      },
      "execution_count": null,
      "outputs": []
    },
    {
      "cell_type": "markdown",
      "source": [
        "###### Part 3: Prescriptive stats"
      ],
      "metadata": {
        "id": "OeVjCoUdBk9_"
      }
    },
    {
      "cell_type": "code",
      "source": [
        "# “Which_Place_in_India?”  has the highest “How_many_Landed_on_the_our_Page?”"
      ],
      "metadata": {
        "id": "wpJGxEK8BltG"
      },
      "execution_count": null,
      "outputs": []
    },
    {
      "cell_type": "code",
      "source": [
        "clean_df.sort_values(['How_many_Landed_on_our_Page?'], ascending = False).head(2)#sorting values in descending order using variable \"How_many_Landed_on_our_Page?\""
      ],
      "metadata": {
        "colab": {
          "base_uri": "https://localhost:8080/",
          "height": 176
        },
        "id": "cRFDTXsKIEjC",
        "outputId": "324aa908-1e41-4407-804e-813f1b0739da"
      },
      "execution_count": null,
      "outputs": [
        {
          "output_type": "execute_result",
          "data": {
            "text/plain": [
              "      Year  Month MobileWeb_or_Web Type_of_Customers?  \\\n",
              "984   2020      5  Desktop_Website       New_Customer   \n",
              "1764  2021      6  Desktop_Website       New_Customer   \n",
              "\n",
              "     Where_Are_They_comming_from? Which_Place_in_India?  \\\n",
              "984                Direct_traffic                  Pune   \n",
              "1764               Direct_traffic                  Pune   \n",
              "\n",
              "      How_many_Landed_on_our_Page?  \\\n",
              "984                     11274131.0   \n",
              "1764                     9083552.0   \n",
              "\n",
              "      How_many_Landed_on_the_our_Page_and_clicked_on_a_button?  \\\n",
              "984                                           2544078.0          \n",
              "1764                                          4079301.0          \n",
              "\n",
              "      How_many_Landed_on_the_our_Page_and_clicked_on_a_button_and_started_filling_the_Form?  \\\n",
              "984                                              658397                                       \n",
              "1764                                            1942557                                       \n",
              "\n",
              "      How_many_Landed_on_the_our_Page_and_clicked_on_a_button_and_started_filling_the_Form_and_Completed_and_submited_the_form?  \n",
              "984                                              389191                                                                          \n",
              "1764                                             923720                                                                          "
            ],
            "text/html": [
              "\n",
              "  <div id=\"df-756fb00d-6dbf-4530-99d1-d7bbcf49682e\">\n",
              "    <div class=\"colab-df-container\">\n",
              "      <div>\n",
              "<style scoped>\n",
              "    .dataframe tbody tr th:only-of-type {\n",
              "        vertical-align: middle;\n",
              "    }\n",
              "\n",
              "    .dataframe tbody tr th {\n",
              "        vertical-align: top;\n",
              "    }\n",
              "\n",
              "    .dataframe thead th {\n",
              "        text-align: right;\n",
              "    }\n",
              "</style>\n",
              "<table border=\"1\" class=\"dataframe\">\n",
              "  <thead>\n",
              "    <tr style=\"text-align: right;\">\n",
              "      <th></th>\n",
              "      <th>Year</th>\n",
              "      <th>Month</th>\n",
              "      <th>MobileWeb_or_Web</th>\n",
              "      <th>Type_of_Customers?</th>\n",
              "      <th>Where_Are_They_comming_from?</th>\n",
              "      <th>Which_Place_in_India?</th>\n",
              "      <th>How_many_Landed_on_our_Page?</th>\n",
              "      <th>How_many_Landed_on_the_our_Page_and_clicked_on_a_button?</th>\n",
              "      <th>How_many_Landed_on_the_our_Page_and_clicked_on_a_button_and_started_filling_the_Form?</th>\n",
              "      <th>How_many_Landed_on_the_our_Page_and_clicked_on_a_button_and_started_filling_the_Form_and_Completed_and_submited_the_form?</th>\n",
              "    </tr>\n",
              "  </thead>\n",
              "  <tbody>\n",
              "    <tr>\n",
              "      <th>984</th>\n",
              "      <td>2020</td>\n",
              "      <td>5</td>\n",
              "      <td>Desktop_Website</td>\n",
              "      <td>New_Customer</td>\n",
              "      <td>Direct_traffic</td>\n",
              "      <td>Pune</td>\n",
              "      <td>11274131.0</td>\n",
              "      <td>2544078.0</td>\n",
              "      <td>658397</td>\n",
              "      <td>389191</td>\n",
              "    </tr>\n",
              "    <tr>\n",
              "      <th>1764</th>\n",
              "      <td>2021</td>\n",
              "      <td>6</td>\n",
              "      <td>Desktop_Website</td>\n",
              "      <td>New_Customer</td>\n",
              "      <td>Direct_traffic</td>\n",
              "      <td>Pune</td>\n",
              "      <td>9083552.0</td>\n",
              "      <td>4079301.0</td>\n",
              "      <td>1942557</td>\n",
              "      <td>923720</td>\n",
              "    </tr>\n",
              "  </tbody>\n",
              "</table>\n",
              "</div>\n",
              "      <button class=\"colab-df-convert\" onclick=\"convertToInteractive('df-756fb00d-6dbf-4530-99d1-d7bbcf49682e')\"\n",
              "              title=\"Convert this dataframe to an interactive table.\"\n",
              "              style=\"display:none;\">\n",
              "        \n",
              "  <svg xmlns=\"http://www.w3.org/2000/svg\" height=\"24px\"viewBox=\"0 0 24 24\"\n",
              "       width=\"24px\">\n",
              "    <path d=\"M0 0h24v24H0V0z\" fill=\"none\"/>\n",
              "    <path d=\"M18.56 5.44l.94 2.06.94-2.06 2.06-.94-2.06-.94-.94-2.06-.94 2.06-2.06.94zm-11 1L8.5 8.5l.94-2.06 2.06-.94-2.06-.94L8.5 2.5l-.94 2.06-2.06.94zm10 10l.94 2.06.94-2.06 2.06-.94-2.06-.94-.94-2.06-.94 2.06-2.06.94z\"/><path d=\"M17.41 7.96l-1.37-1.37c-.4-.4-.92-.59-1.43-.59-.52 0-1.04.2-1.43.59L10.3 9.45l-7.72 7.72c-.78.78-.78 2.05 0 2.83L4 21.41c.39.39.9.59 1.41.59.51 0 1.02-.2 1.41-.59l7.78-7.78 2.81-2.81c.8-.78.8-2.07 0-2.86zM5.41 20L4 18.59l7.72-7.72 1.47 1.35L5.41 20z\"/>\n",
              "  </svg>\n",
              "      </button>\n",
              "      \n",
              "  <style>\n",
              "    .colab-df-container {\n",
              "      display:flex;\n",
              "      flex-wrap:wrap;\n",
              "      gap: 12px;\n",
              "    }\n",
              "\n",
              "    .colab-df-convert {\n",
              "      background-color: #E8F0FE;\n",
              "      border: none;\n",
              "      border-radius: 50%;\n",
              "      cursor: pointer;\n",
              "      display: none;\n",
              "      fill: #1967D2;\n",
              "      height: 32px;\n",
              "      padding: 0 0 0 0;\n",
              "      width: 32px;\n",
              "    }\n",
              "\n",
              "    .colab-df-convert:hover {\n",
              "      background-color: #E2EBFA;\n",
              "      box-shadow: 0px 1px 2px rgba(60, 64, 67, 0.3), 0px 1px 3px 1px rgba(60, 64, 67, 0.15);\n",
              "      fill: #174EA6;\n",
              "    }\n",
              "\n",
              "    [theme=dark] .colab-df-convert {\n",
              "      background-color: #3B4455;\n",
              "      fill: #D2E3FC;\n",
              "    }\n",
              "\n",
              "    [theme=dark] .colab-df-convert:hover {\n",
              "      background-color: #434B5C;\n",
              "      box-shadow: 0px 1px 3px 1px rgba(0, 0, 0, 0.15);\n",
              "      filter: drop-shadow(0px 1px 2px rgba(0, 0, 0, 0.3));\n",
              "      fill: #FFFFFF;\n",
              "    }\n",
              "  </style>\n",
              "\n",
              "      <script>\n",
              "        const buttonEl =\n",
              "          document.querySelector('#df-756fb00d-6dbf-4530-99d1-d7bbcf49682e button.colab-df-convert');\n",
              "        buttonEl.style.display =\n",
              "          google.colab.kernel.accessAllowed ? 'block' : 'none';\n",
              "\n",
              "        async function convertToInteractive(key) {\n",
              "          const element = document.querySelector('#df-756fb00d-6dbf-4530-99d1-d7bbcf49682e');\n",
              "          const dataTable =\n",
              "            await google.colab.kernel.invokeFunction('convertToInteractive',\n",
              "                                                     [key], {});\n",
              "          if (!dataTable) return;\n",
              "\n",
              "          const docLinkHtml = 'Like what you see? Visit the ' +\n",
              "            '<a target=\"_blank\" href=https://colab.research.google.com/notebooks/data_table.ipynb>data table notebook</a>'\n",
              "            + ' to learn more about interactive tables.';\n",
              "          element.innerHTML = '';\n",
              "          dataTable['output_type'] = 'display_data';\n",
              "          await google.colab.output.renderOutput(dataTable, element);\n",
              "          const docLink = document.createElement('div');\n",
              "          docLink.innerHTML = docLinkHtml;\n",
              "          element.appendChild(docLink);\n",
              "        }\n",
              "      </script>\n",
              "    </div>\n",
              "  </div>\n",
              "  "
            ]
          },
          "metadata": {},
          "execution_count": 13
        }
      ]
    },
    {
      "cell_type": "code",
      "source": [
        "clean_df.sort_values(['How_many_Landed_on_our_Page?'], ascending = False).head(1) #Ans: Pune"
      ],
      "metadata": {
        "colab": {
          "base_uri": "https://localhost:8080/",
          "height": 145
        },
        "id": "5RviJ2kDEZm7",
        "outputId": "7c303547-1c45-4b06-84fa-3f122d8df300"
      },
      "execution_count": null,
      "outputs": [
        {
          "output_type": "execute_result",
          "data": {
            "text/plain": [
              "     Year  Month MobileWeb_or_Web Type_of_Customers?  \\\n",
              "984  2020      5  Desktop_Website       New_Customer   \n",
              "\n",
              "    Where_Are_They_comming_from? Which_Place_in_India?  \\\n",
              "984               Direct_traffic                  Pune   \n",
              "\n",
              "     How_many_Landed_on_our_Page?  \\\n",
              "984                    11274131.0   \n",
              "\n",
              "     How_many_Landed_on_the_our_Page_and_clicked_on_a_button?  \\\n",
              "984                                          2544078.0          \n",
              "\n",
              "     How_many_Landed_on_the_our_Page_and_clicked_on_a_button_and_started_filling_the_Form?  \\\n",
              "984                                             658397                                       \n",
              "\n",
              "     How_many_Landed_on_the_our_Page_and_clicked_on_a_button_and_started_filling_the_Form_and_Completed_and_submited_the_form?  \n",
              "984                                             389191                                                                          "
            ],
            "text/html": [
              "\n",
              "  <div id=\"df-299d6c0b-fda6-4a3f-bf34-829ff7ccb140\">\n",
              "    <div class=\"colab-df-container\">\n",
              "      <div>\n",
              "<style scoped>\n",
              "    .dataframe tbody tr th:only-of-type {\n",
              "        vertical-align: middle;\n",
              "    }\n",
              "\n",
              "    .dataframe tbody tr th {\n",
              "        vertical-align: top;\n",
              "    }\n",
              "\n",
              "    .dataframe thead th {\n",
              "        text-align: right;\n",
              "    }\n",
              "</style>\n",
              "<table border=\"1\" class=\"dataframe\">\n",
              "  <thead>\n",
              "    <tr style=\"text-align: right;\">\n",
              "      <th></th>\n",
              "      <th>Year</th>\n",
              "      <th>Month</th>\n",
              "      <th>MobileWeb_or_Web</th>\n",
              "      <th>Type_of_Customers?</th>\n",
              "      <th>Where_Are_They_comming_from?</th>\n",
              "      <th>Which_Place_in_India?</th>\n",
              "      <th>How_many_Landed_on_our_Page?</th>\n",
              "      <th>How_many_Landed_on_the_our_Page_and_clicked_on_a_button?</th>\n",
              "      <th>How_many_Landed_on_the_our_Page_and_clicked_on_a_button_and_started_filling_the_Form?</th>\n",
              "      <th>How_many_Landed_on_the_our_Page_and_clicked_on_a_button_and_started_filling_the_Form_and_Completed_and_submited_the_form?</th>\n",
              "    </tr>\n",
              "  </thead>\n",
              "  <tbody>\n",
              "    <tr>\n",
              "      <th>984</th>\n",
              "      <td>2020</td>\n",
              "      <td>5</td>\n",
              "      <td>Desktop_Website</td>\n",
              "      <td>New_Customer</td>\n",
              "      <td>Direct_traffic</td>\n",
              "      <td>Pune</td>\n",
              "      <td>11274131.0</td>\n",
              "      <td>2544078.0</td>\n",
              "      <td>658397</td>\n",
              "      <td>389191</td>\n",
              "    </tr>\n",
              "  </tbody>\n",
              "</table>\n",
              "</div>\n",
              "      <button class=\"colab-df-convert\" onclick=\"convertToInteractive('df-299d6c0b-fda6-4a3f-bf34-829ff7ccb140')\"\n",
              "              title=\"Convert this dataframe to an interactive table.\"\n",
              "              style=\"display:none;\">\n",
              "        \n",
              "  <svg xmlns=\"http://www.w3.org/2000/svg\" height=\"24px\"viewBox=\"0 0 24 24\"\n",
              "       width=\"24px\">\n",
              "    <path d=\"M0 0h24v24H0V0z\" fill=\"none\"/>\n",
              "    <path d=\"M18.56 5.44l.94 2.06.94-2.06 2.06-.94-2.06-.94-.94-2.06-.94 2.06-2.06.94zm-11 1L8.5 8.5l.94-2.06 2.06-.94-2.06-.94L8.5 2.5l-.94 2.06-2.06.94zm10 10l.94 2.06.94-2.06 2.06-.94-2.06-.94-.94-2.06-.94 2.06-2.06.94z\"/><path d=\"M17.41 7.96l-1.37-1.37c-.4-.4-.92-.59-1.43-.59-.52 0-1.04.2-1.43.59L10.3 9.45l-7.72 7.72c-.78.78-.78 2.05 0 2.83L4 21.41c.39.39.9.59 1.41.59.51 0 1.02-.2 1.41-.59l7.78-7.78 2.81-2.81c.8-.78.8-2.07 0-2.86zM5.41 20L4 18.59l7.72-7.72 1.47 1.35L5.41 20z\"/>\n",
              "  </svg>\n",
              "      </button>\n",
              "      \n",
              "  <style>\n",
              "    .colab-df-container {\n",
              "      display:flex;\n",
              "      flex-wrap:wrap;\n",
              "      gap: 12px;\n",
              "    }\n",
              "\n",
              "    .colab-df-convert {\n",
              "      background-color: #E8F0FE;\n",
              "      border: none;\n",
              "      border-radius: 50%;\n",
              "      cursor: pointer;\n",
              "      display: none;\n",
              "      fill: #1967D2;\n",
              "      height: 32px;\n",
              "      padding: 0 0 0 0;\n",
              "      width: 32px;\n",
              "    }\n",
              "\n",
              "    .colab-df-convert:hover {\n",
              "      background-color: #E2EBFA;\n",
              "      box-shadow: 0px 1px 2px rgba(60, 64, 67, 0.3), 0px 1px 3px 1px rgba(60, 64, 67, 0.15);\n",
              "      fill: #174EA6;\n",
              "    }\n",
              "\n",
              "    [theme=dark] .colab-df-convert {\n",
              "      background-color: #3B4455;\n",
              "      fill: #D2E3FC;\n",
              "    }\n",
              "\n",
              "    [theme=dark] .colab-df-convert:hover {\n",
              "      background-color: #434B5C;\n",
              "      box-shadow: 0px 1px 3px 1px rgba(0, 0, 0, 0.15);\n",
              "      filter: drop-shadow(0px 1px 2px rgba(0, 0, 0, 0.3));\n",
              "      fill: #FFFFFF;\n",
              "    }\n",
              "  </style>\n",
              "\n",
              "      <script>\n",
              "        const buttonEl =\n",
              "          document.querySelector('#df-299d6c0b-fda6-4a3f-bf34-829ff7ccb140 button.colab-df-convert');\n",
              "        buttonEl.style.display =\n",
              "          google.colab.kernel.accessAllowed ? 'block' : 'none';\n",
              "\n",
              "        async function convertToInteractive(key) {\n",
              "          const element = document.querySelector('#df-299d6c0b-fda6-4a3f-bf34-829ff7ccb140');\n",
              "          const dataTable =\n",
              "            await google.colab.kernel.invokeFunction('convertToInteractive',\n",
              "                                                     [key], {});\n",
              "          if (!dataTable) return;\n",
              "\n",
              "          const docLinkHtml = 'Like what you see? Visit the ' +\n",
              "            '<a target=\"_blank\" href=https://colab.research.google.com/notebooks/data_table.ipynb>data table notebook</a>'\n",
              "            + ' to learn more about interactive tables.';\n",
              "          element.innerHTML = '';\n",
              "          dataTable['output_type'] = 'display_data';\n",
              "          await google.colab.output.renderOutput(dataTable, element);\n",
              "          const docLink = document.createElement('div');\n",
              "          docLink.innerHTML = docLinkHtml;\n",
              "          element.appendChild(docLink);\n",
              "        }\n",
              "      </script>\n",
              "    </div>\n",
              "  </div>\n",
              "  "
            ]
          },
          "metadata": {},
          "execution_count": 14
        }
      ]
    },
    {
      "cell_type": "code",
      "source": [
        "# “How_many_Landed_on_the_our_Page_and_clicked_on_a_button_and_started_filling_the_Form_and_Completed_and_submited_the_form?” \n",
        "# divided by “How_many_Landed_on _our_Page?” is highest for “Which_Place_in_India?"
      ],
      "metadata": {
        "id": "m0ZmO7OzHn_P"
      },
      "execution_count": null,
      "outputs": []
    },
    {
      "cell_type": "code",
      "source": [
        "clean_df['div'] = clean_df['How_many_Landed_on_the_our_Page_and_clicked_on_a_button_and_started_filling_the_Form_and_Completed_and_submited_the_form?']/clean_df['How_many_Landed_on_our_Page?']\n",
        "#creating a new column using condition"
      ],
      "metadata": {
        "id": "UqtS0KP2J-HD"
      },
      "execution_count": null,
      "outputs": []
    },
    {
      "cell_type": "code",
      "source": [
        "clean_df.replace([np.inf, -np.inf], 0, inplace=True)#replacing infinite values with zero"
      ],
      "metadata": {
        "id": "bnRoofxlNq6g"
      },
      "execution_count": null,
      "outputs": []
    },
    {
      "cell_type": "code",
      "source": [
        "clean_df.sort_values(['div'],ascending=False).head(1) #Ans: dehradun"
      ],
      "metadata": {
        "colab": {
          "base_uri": "https://localhost:8080/",
          "height": 145
        },
        "id": "WIoE_gF4Ml23",
        "outputId": "b5e62144-b6b3-4c18-d982-49a5f786dd53"
      },
      "execution_count": null,
      "outputs": [
        {
          "output_type": "execute_result",
          "data": {
            "text/plain": [
              "     Year  Month MobileWeb_or_Web Type_of_Customers?  \\\n",
              "262  2019      5  Desktop_Website       New_Customer   \n",
              "\n",
              "    Where_Are_They_comming_from? Which_Place_in_India?  \\\n",
              "262               Direct_traffic              Dehradun   \n",
              "\n",
              "     How_many_Landed_on_our_Page?  \\\n",
              "262                     1412563.0   \n",
              "\n",
              "     How_many_Landed_on_the_our_Page_and_clicked_on_a_button?  \\\n",
              "262                                          1121317.0          \n",
              "\n",
              "     How_many_Landed_on_the_our_Page_and_clicked_on_a_button_and_started_filling_the_Form?  \\\n",
              "262                                             994925                                       \n",
              "\n",
              "     How_many_Landed_on_the_our_Page_and_clicked_on_a_button_and_started_filling_the_Form_and_Completed_and_submited_the_form?  \\\n",
              "262                                             873534                                                                           \n",
              "\n",
              "          div  \n",
              "262  0.618404  "
            ],
            "text/html": [
              "\n",
              "  <div id=\"df-f5b226e7-103d-461a-a2a1-6c5a93d17f21\">\n",
              "    <div class=\"colab-df-container\">\n",
              "      <div>\n",
              "<style scoped>\n",
              "    .dataframe tbody tr th:only-of-type {\n",
              "        vertical-align: middle;\n",
              "    }\n",
              "\n",
              "    .dataframe tbody tr th {\n",
              "        vertical-align: top;\n",
              "    }\n",
              "\n",
              "    .dataframe thead th {\n",
              "        text-align: right;\n",
              "    }\n",
              "</style>\n",
              "<table border=\"1\" class=\"dataframe\">\n",
              "  <thead>\n",
              "    <tr style=\"text-align: right;\">\n",
              "      <th></th>\n",
              "      <th>Year</th>\n",
              "      <th>Month</th>\n",
              "      <th>MobileWeb_or_Web</th>\n",
              "      <th>Type_of_Customers?</th>\n",
              "      <th>Where_Are_They_comming_from?</th>\n",
              "      <th>Which_Place_in_India?</th>\n",
              "      <th>How_many_Landed_on_our_Page?</th>\n",
              "      <th>How_many_Landed_on_the_our_Page_and_clicked_on_a_button?</th>\n",
              "      <th>How_many_Landed_on_the_our_Page_and_clicked_on_a_button_and_started_filling_the_Form?</th>\n",
              "      <th>How_many_Landed_on_the_our_Page_and_clicked_on_a_button_and_started_filling_the_Form_and_Completed_and_submited_the_form?</th>\n",
              "      <th>div</th>\n",
              "    </tr>\n",
              "  </thead>\n",
              "  <tbody>\n",
              "    <tr>\n",
              "      <th>262</th>\n",
              "      <td>2019</td>\n",
              "      <td>5</td>\n",
              "      <td>Desktop_Website</td>\n",
              "      <td>New_Customer</td>\n",
              "      <td>Direct_traffic</td>\n",
              "      <td>Dehradun</td>\n",
              "      <td>1412563.0</td>\n",
              "      <td>1121317.0</td>\n",
              "      <td>994925</td>\n",
              "      <td>873534</td>\n",
              "      <td>0.618404</td>\n",
              "    </tr>\n",
              "  </tbody>\n",
              "</table>\n",
              "</div>\n",
              "      <button class=\"colab-df-convert\" onclick=\"convertToInteractive('df-f5b226e7-103d-461a-a2a1-6c5a93d17f21')\"\n",
              "              title=\"Convert this dataframe to an interactive table.\"\n",
              "              style=\"display:none;\">\n",
              "        \n",
              "  <svg xmlns=\"http://www.w3.org/2000/svg\" height=\"24px\"viewBox=\"0 0 24 24\"\n",
              "       width=\"24px\">\n",
              "    <path d=\"M0 0h24v24H0V0z\" fill=\"none\"/>\n",
              "    <path d=\"M18.56 5.44l.94 2.06.94-2.06 2.06-.94-2.06-.94-.94-2.06-.94 2.06-2.06.94zm-11 1L8.5 8.5l.94-2.06 2.06-.94-2.06-.94L8.5 2.5l-.94 2.06-2.06.94zm10 10l.94 2.06.94-2.06 2.06-.94-2.06-.94-.94-2.06-.94 2.06-2.06.94z\"/><path d=\"M17.41 7.96l-1.37-1.37c-.4-.4-.92-.59-1.43-.59-.52 0-1.04.2-1.43.59L10.3 9.45l-7.72 7.72c-.78.78-.78 2.05 0 2.83L4 21.41c.39.39.9.59 1.41.59.51 0 1.02-.2 1.41-.59l7.78-7.78 2.81-2.81c.8-.78.8-2.07 0-2.86zM5.41 20L4 18.59l7.72-7.72 1.47 1.35L5.41 20z\"/>\n",
              "  </svg>\n",
              "      </button>\n",
              "      \n",
              "  <style>\n",
              "    .colab-df-container {\n",
              "      display:flex;\n",
              "      flex-wrap:wrap;\n",
              "      gap: 12px;\n",
              "    }\n",
              "\n",
              "    .colab-df-convert {\n",
              "      background-color: #E8F0FE;\n",
              "      border: none;\n",
              "      border-radius: 50%;\n",
              "      cursor: pointer;\n",
              "      display: none;\n",
              "      fill: #1967D2;\n",
              "      height: 32px;\n",
              "      padding: 0 0 0 0;\n",
              "      width: 32px;\n",
              "    }\n",
              "\n",
              "    .colab-df-convert:hover {\n",
              "      background-color: #E2EBFA;\n",
              "      box-shadow: 0px 1px 2px rgba(60, 64, 67, 0.3), 0px 1px 3px 1px rgba(60, 64, 67, 0.15);\n",
              "      fill: #174EA6;\n",
              "    }\n",
              "\n",
              "    [theme=dark] .colab-df-convert {\n",
              "      background-color: #3B4455;\n",
              "      fill: #D2E3FC;\n",
              "    }\n",
              "\n",
              "    [theme=dark] .colab-df-convert:hover {\n",
              "      background-color: #434B5C;\n",
              "      box-shadow: 0px 1px 3px 1px rgba(0, 0, 0, 0.15);\n",
              "      filter: drop-shadow(0px 1px 2px rgba(0, 0, 0, 0.3));\n",
              "      fill: #FFFFFF;\n",
              "    }\n",
              "  </style>\n",
              "\n",
              "      <script>\n",
              "        const buttonEl =\n",
              "          document.querySelector('#df-f5b226e7-103d-461a-a2a1-6c5a93d17f21 button.colab-df-convert');\n",
              "        buttonEl.style.display =\n",
              "          google.colab.kernel.accessAllowed ? 'block' : 'none';\n",
              "\n",
              "        async function convertToInteractive(key) {\n",
              "          const element = document.querySelector('#df-f5b226e7-103d-461a-a2a1-6c5a93d17f21');\n",
              "          const dataTable =\n",
              "            await google.colab.kernel.invokeFunction('convertToInteractive',\n",
              "                                                     [key], {});\n",
              "          if (!dataTable) return;\n",
              "\n",
              "          const docLinkHtml = 'Like what you see? Visit the ' +\n",
              "            '<a target=\"_blank\" href=https://colab.research.google.com/notebooks/data_table.ipynb>data table notebook</a>'\n",
              "            + ' to learn more about interactive tables.';\n",
              "          element.innerHTML = '';\n",
              "          dataTable['output_type'] = 'display_data';\n",
              "          await google.colab.output.renderOutput(dataTable, element);\n",
              "          const docLink = document.createElement('div');\n",
              "          docLink.innerHTML = docLinkHtml;\n",
              "          element.appendChild(docLink);\n",
              "        }\n",
              "      </script>\n",
              "    </div>\n",
              "  </div>\n",
              "  "
            ]
          },
          "metadata": {},
          "execution_count": 18
        }
      ]
    },
    {
      "cell_type": "markdown",
      "source": [
        "###### Part 4: Simple ML questions"
      ],
      "metadata": {
        "id": "enIsYM7hORmH"
      }
    },
    {
      "cell_type": "code",
      "source": [
        "#we will use 2019-2021 data to predict what the values might be for the year 2022.\n",
        "clean_df.columns"
      ],
      "metadata": {
        "colab": {
          "base_uri": "https://localhost:8080/"
        },
        "id": "O7dHiVCqduZa",
        "outputId": "f658da98-8060-4b7f-955b-19dfa5841b17"
      },
      "execution_count": null,
      "outputs": [
        {
          "output_type": "execute_result",
          "data": {
            "text/plain": [
              "Index(['Year', 'Month', 'MobileWeb_or_Web', 'Type_of_Customers?',\n",
              "       'Where_Are_They_comming_from?', 'Which_Place_in_India?',\n",
              "       'How_many_Landed_on_our_Page?',\n",
              "       'How_many_Landed_on_the_our_Page_and_clicked_on_a_button?',\n",
              "       'How_many_Landed_on_the_our_Page_and_clicked_on_a_button_and_started_filling_the_Form?',\n",
              "       'How_many_Landed_on_the_our_Page_and_clicked_on_a_button_and_started_filling_the_Form_and_Completed_and_submited_the_form?',\n",
              "       'div'],\n",
              "      dtype='object')"
            ]
          },
          "metadata": {},
          "execution_count": 19
        }
      ]
    },
    {
      "cell_type": "code",
      "source": [
        "X = clean_df[['How_many_Landed_on_our_Page?', 'How_many_Landed_on_the_our_Page_and_clicked_on_a_button?',\n",
        "              'How_many_Landed_on_the_our_Page_and_clicked_on_a_button_and_started_filling_the_Form?']]#using only the relevant variables for training\n",
        "y = clean_df['How_many_Landed_on_the_our_Page_and_clicked_on_a_button_and_started_filling_the_Form_and_Completed_and_submited_the_form?']#our target variable"
      ],
      "metadata": {
        "id": "cVtGZYIahRNP"
      },
      "execution_count": null,
      "outputs": []
    },
    {
      "cell_type": "code",
      "source": [
        "#test_train_split\n",
        "from sklearn.model_selection import train_test_split\n",
        "X_train, X_test, y_train, y_test = train_test_split(X, y, test_size=0.333, random_state=42)\n",
        "lm = LinearRegression()\n",
        "lm.fit(X_train, y_train)#fitting our model"
      ],
      "metadata": {
        "colab": {
          "base_uri": "https://localhost:8080/"
        },
        "id": "8i3tHdDuhRKz",
        "outputId": "e13f0efd-be08-478b-baa5-b6dfa2942c90"
      },
      "execution_count": null,
      "outputs": [
        {
          "output_type": "execute_result",
          "data": {
            "text/plain": [
              "LinearRegression()"
            ]
          },
          "metadata": {},
          "execution_count": 21
        }
      ]
    },
    {
      "cell_type": "code",
      "source": [
        "#evaluating model\n",
        "print(lm.intercept_)\n",
        "print(lm.coef_)#coefficient for each feature that has been used in the training set"
      ],
      "metadata": {
        "colab": {
          "base_uri": "https://localhost:8080/"
        },
        "id": "0_yxGnOOhRIn",
        "outputId": "87752f31-7710-4350-8d8a-d8eb9aaad5fb"
      },
      "execution_count": null,
      "outputs": [
        {
          "output_type": "stream",
          "name": "stdout",
          "text": [
            "19203.179842822246\n",
            "[-0.00106081  0.11548989  0.13534549]\n"
          ]
        }
      ]
    },
    {
      "cell_type": "code",
      "source": [
        "cdf = pd.DataFrame(lm.coef_,X.columns,columns=['Coef'])#making a df using the coefficients of each variable used to predict\n",
        "cdf #basically what this tells us is that 0.135345 unit increase in the third variable gives us a unit increase in the submitted_the_form var."
      ],
      "metadata": {
        "colab": {
          "base_uri": "https://localhost:8080/",
          "height": 143
        },
        "id": "JHFYQFzRhRGT",
        "outputId": "7994ea00-cd8b-44df-8e8b-a9a28f676362"
      },
      "execution_count": null,
      "outputs": [
        {
          "output_type": "execute_result",
          "data": {
            "text/plain": [
              "                                                        Coef\n",
              "How_many_Landed_on_our_Page?                       -0.001061\n",
              "How_many_Landed_on_the_our_Page_and_clicked_on_...  0.115490\n",
              "How_many_Landed_on_the_our_Page_and_clicked_on_...  0.135345"
            ],
            "text/html": [
              "\n",
              "  <div id=\"df-210a1dbd-2eee-492a-8d78-b2bbe1e1dc67\">\n",
              "    <div class=\"colab-df-container\">\n",
              "      <div>\n",
              "<style scoped>\n",
              "    .dataframe tbody tr th:only-of-type {\n",
              "        vertical-align: middle;\n",
              "    }\n",
              "\n",
              "    .dataframe tbody tr th {\n",
              "        vertical-align: top;\n",
              "    }\n",
              "\n",
              "    .dataframe thead th {\n",
              "        text-align: right;\n",
              "    }\n",
              "</style>\n",
              "<table border=\"1\" class=\"dataframe\">\n",
              "  <thead>\n",
              "    <tr style=\"text-align: right;\">\n",
              "      <th></th>\n",
              "      <th>Coef</th>\n",
              "    </tr>\n",
              "  </thead>\n",
              "  <tbody>\n",
              "    <tr>\n",
              "      <th>How_many_Landed_on_our_Page?</th>\n",
              "      <td>-0.001061</td>\n",
              "    </tr>\n",
              "    <tr>\n",
              "      <th>How_many_Landed_on_the_our_Page_and_clicked_on_a_button?</th>\n",
              "      <td>0.115490</td>\n",
              "    </tr>\n",
              "    <tr>\n",
              "      <th>How_many_Landed_on_the_our_Page_and_clicked_on_a_button_and_started_filling_the_Form?</th>\n",
              "      <td>0.135345</td>\n",
              "    </tr>\n",
              "  </tbody>\n",
              "</table>\n",
              "</div>\n",
              "      <button class=\"colab-df-convert\" onclick=\"convertToInteractive('df-210a1dbd-2eee-492a-8d78-b2bbe1e1dc67')\"\n",
              "              title=\"Convert this dataframe to an interactive table.\"\n",
              "              style=\"display:none;\">\n",
              "        \n",
              "  <svg xmlns=\"http://www.w3.org/2000/svg\" height=\"24px\"viewBox=\"0 0 24 24\"\n",
              "       width=\"24px\">\n",
              "    <path d=\"M0 0h24v24H0V0z\" fill=\"none\"/>\n",
              "    <path d=\"M18.56 5.44l.94 2.06.94-2.06 2.06-.94-2.06-.94-.94-2.06-.94 2.06-2.06.94zm-11 1L8.5 8.5l.94-2.06 2.06-.94-2.06-.94L8.5 2.5l-.94 2.06-2.06.94zm10 10l.94 2.06.94-2.06 2.06-.94-2.06-.94-.94-2.06-.94 2.06-2.06.94z\"/><path d=\"M17.41 7.96l-1.37-1.37c-.4-.4-.92-.59-1.43-.59-.52 0-1.04.2-1.43.59L10.3 9.45l-7.72 7.72c-.78.78-.78 2.05 0 2.83L4 21.41c.39.39.9.59 1.41.59.51 0 1.02-.2 1.41-.59l7.78-7.78 2.81-2.81c.8-.78.8-2.07 0-2.86zM5.41 20L4 18.59l7.72-7.72 1.47 1.35L5.41 20z\"/>\n",
              "  </svg>\n",
              "      </button>\n",
              "      \n",
              "  <style>\n",
              "    .colab-df-container {\n",
              "      display:flex;\n",
              "      flex-wrap:wrap;\n",
              "      gap: 12px;\n",
              "    }\n",
              "\n",
              "    .colab-df-convert {\n",
              "      background-color: #E8F0FE;\n",
              "      border: none;\n",
              "      border-radius: 50%;\n",
              "      cursor: pointer;\n",
              "      display: none;\n",
              "      fill: #1967D2;\n",
              "      height: 32px;\n",
              "      padding: 0 0 0 0;\n",
              "      width: 32px;\n",
              "    }\n",
              "\n",
              "    .colab-df-convert:hover {\n",
              "      background-color: #E2EBFA;\n",
              "      box-shadow: 0px 1px 2px rgba(60, 64, 67, 0.3), 0px 1px 3px 1px rgba(60, 64, 67, 0.15);\n",
              "      fill: #174EA6;\n",
              "    }\n",
              "\n",
              "    [theme=dark] .colab-df-convert {\n",
              "      background-color: #3B4455;\n",
              "      fill: #D2E3FC;\n",
              "    }\n",
              "\n",
              "    [theme=dark] .colab-df-convert:hover {\n",
              "      background-color: #434B5C;\n",
              "      box-shadow: 0px 1px 3px 1px rgba(0, 0, 0, 0.15);\n",
              "      filter: drop-shadow(0px 1px 2px rgba(0, 0, 0, 0.3));\n",
              "      fill: #FFFFFF;\n",
              "    }\n",
              "  </style>\n",
              "\n",
              "      <script>\n",
              "        const buttonEl =\n",
              "          document.querySelector('#df-210a1dbd-2eee-492a-8d78-b2bbe1e1dc67 button.colab-df-convert');\n",
              "        buttonEl.style.display =\n",
              "          google.colab.kernel.accessAllowed ? 'block' : 'none';\n",
              "\n",
              "        async function convertToInteractive(key) {\n",
              "          const element = document.querySelector('#df-210a1dbd-2eee-492a-8d78-b2bbe1e1dc67');\n",
              "          const dataTable =\n",
              "            await google.colab.kernel.invokeFunction('convertToInteractive',\n",
              "                                                     [key], {});\n",
              "          if (!dataTable) return;\n",
              "\n",
              "          const docLinkHtml = 'Like what you see? Visit the ' +\n",
              "            '<a target=\"_blank\" href=https://colab.research.google.com/notebooks/data_table.ipynb>data table notebook</a>'\n",
              "            + ' to learn more about interactive tables.';\n",
              "          element.innerHTML = '';\n",
              "          dataTable['output_type'] = 'display_data';\n",
              "          await google.colab.output.renderOutput(dataTable, element);\n",
              "          const docLink = document.createElement('div');\n",
              "          docLink.innerHTML = docLinkHtml;\n",
              "          element.appendChild(docLink);\n",
              "        }\n",
              "      </script>\n",
              "    </div>\n",
              "  </div>\n",
              "  "
            ]
          },
          "metadata": {},
          "execution_count": 23
        }
      ]
    },
    {
      "cell_type": "code",
      "source": [
        "#PREDICTION\n",
        "predictions = lm.predict(X_test)\n",
        "predictions"
      ],
      "metadata": {
        "colab": {
          "base_uri": "https://localhost:8080/"
        },
        "id": "9UZ1CjAdipb0",
        "outputId": "98454cdf-994d-413b-97e2-cb12aa07df86"
      },
      "execution_count": null,
      "outputs": [
        {
          "output_type": "execute_result",
          "data": {
            "text/plain": [
              "array([118601.98886058,  51256.10430445,  41670.26012971,  36334.9409999 ,\n",
              "        40364.31151775,  19993.46214619,  41757.54429395,  32563.40363636,\n",
              "        36975.25997718,  23375.78015367,  30389.34906553,  39343.26515764,\n",
              "        26163.32155389, 200839.78161701,  29501.34522109,  35862.47296255,\n",
              "        45097.36626722,  97394.64980151,  29007.0514946 ,  69548.41816916,\n",
              "        83622.86718379,  41663.22216434,  32755.93018164,  31859.20106324,\n",
              "        59098.87258853,  30550.97973015,  20869.95952531,  22890.12627648,\n",
              "        20180.64495585,  30456.61577297,  56111.54127897,  77580.47081602,\n",
              "        39169.36070354,  44441.45899279,  59035.76819566,  28592.77306023,\n",
              "        27149.27783075,  21605.15621514,  25014.37370779,  62151.59049566,\n",
              "        22746.79540488,  33802.84490339,  26552.38109052,  28184.57106897,\n",
              "        23296.16273994,  22061.94723652,  37483.75350051,  25731.43410226,\n",
              "        25638.79454276, 164046.64647894,  37733.58967862,  36050.07303537,\n",
              "        28158.85542628,  28539.31159254,  36133.00553208,  31065.62115341,\n",
              "        54079.68187132,  30492.48232725,  74989.80757294,  21051.73366997,\n",
              "       262407.51287457,  73396.32523825, 245594.96830558,  25715.19264372,\n",
              "        21035.48705691,  38919.46277527,  44484.90489438,  37629.65593638,\n",
              "        40318.97077933,  70191.07339573,  41402.88838458, 385604.95843687,\n",
              "        39777.58882805,  26568.27525344,  34196.77441481, 241685.26931263,\n",
              "       208634.53922677,  37452.62403831, 165500.82824292,  22596.01171467,\n",
              "        53726.14415612, 673974.90943951,  35401.7338614 ,  22817.44574953,\n",
              "       205369.55581239,  28252.51450385,  84698.16136667,  27356.12133803,\n",
              "        21979.5314234 ,  69986.09068473,  64415.10179338,  46213.00251712,\n",
              "        40347.39333177,  34714.85551072,  21928.49658553,  43386.23745252,\n",
              "        32905.02483436,  29805.60397657,  56901.67910551, 670876.69904867,\n",
              "        36378.39492356,  23547.36396533,  21076.76743069,  80771.49274036,\n",
              "        50168.14120386,  60419.53521171, 136006.76160499, 165065.63766742,\n",
              "        39897.27286498, 196575.83381583,  21995.76329298,  36034.20332597,\n",
              "        48054.31832083,  20538.76911661,  46703.47606908,  41007.74396684,\n",
              "        30217.20916205,  22320.59246374, 174539.27540259,  34899.73744708,\n",
              "        33748.62407318,  79764.73647657,  29399.16147665,  35712.89313789,\n",
              "        40641.4967754 ,  59493.63672954,  24677.09275215,  25209.8125922 ,\n",
              "        89344.21941339,  21696.37907393, 187400.07704675,  77784.47858749,\n",
              "       110266.06407263,  27353.00839181,  31046.45488374,  56588.19632464,\n",
              "        62316.40222348,  42093.35012463,  24562.18443299, 324929.14848927,\n",
              "        76681.02488212,  45015.7298976 , 110616.16164435,  34330.88036178,\n",
              "       183335.63949809, 149049.35898645,  41211.90183554,  22290.95180191,\n",
              "        35232.30486369, 131008.98700265,  32917.73812346,  25158.92268878,\n",
              "        75833.62678289,  35702.87757179,  45212.72369189,  31150.52909813,\n",
              "        54259.01464268,  36656.84914829, 524005.03591153,  45115.93476851,\n",
              "        28057.16331852,  21312.80996145,  40535.22222615, 178995.19184885,\n",
              "        20586.14003735,  30421.96732809,  25027.09618365,  28894.99953452,\n",
              "        41195.09601644,  82440.67450162,  22148.43300324,  30047.87239976,\n",
              "        20972.95744154,  82586.24839577,  35774.20464387,  21038.05862118,\n",
              "        24049.9017616 ,  36955.46298791,  39116.15542909,  33841.33573234,\n",
              "        69242.81228671,  48923.16989537, 159519.00661752,  23806.82126548,\n",
              "        40363.85743348,  28994.47846807,  22268.34910545,  26479.35326794,\n",
              "       223614.18551062,  63835.11394229,  24350.77478102,  24560.84662247,\n",
              "       163372.51534641,  22228.15149556,  24266.18385113,  44580.04800301,\n",
              "        73459.74556664,  27882.47994016,  32736.50937746,  66684.54249733,\n",
              "       594793.64684252, 117931.45739921,  33752.35177098,  27593.38197817,\n",
              "        23893.17168671,  51140.10874015,  32784.55816345,  65199.90406585,\n",
              "        29839.03431206,  29185.23714113,  61445.13373014,  79797.76914719,\n",
              "        76433.20729392,  26077.37716912, 107780.67867654,  23338.93191409,\n",
              "        42601.4370859 ,  48878.68132716,  25508.38473833,  31387.25134721,\n",
              "        36210.42315111,  42268.18235846,  32441.59269732, 379321.91134801,\n",
              "       147445.3213128 ,  28506.25093187,  78930.87292612,  46369.98265172,\n",
              "        42493.83742308,  23387.79163519,  40038.24859938,  54418.47190226,\n",
              "        56210.9655847 , 163450.02851525,  29841.12739993,  67408.77620265,\n",
              "        23864.3430978 ,  27233.31451068,  91545.47613145,  25287.36555672,\n",
              "        48316.01651159,  86229.30255145,  40988.38956208, 281563.97770147,\n",
              "        71103.08430405, 102885.29569073,  42996.51056484,  38809.87402463,\n",
              "        90372.70977532,  21790.71487894,  22069.35404584,  26864.14048981,\n",
              "        32023.21561862,  85343.54213896,  23337.30776824,  75140.38719428,\n",
              "        25677.43125262,  72392.86150699,  25609.13623264,  53142.95575012,\n",
              "        32598.86415416,  31455.46547307,  21177.73516461,  71628.57782185,\n",
              "        29811.28848706,  48527.99043196,  49477.37224374,  42538.63677955,\n",
              "        35793.64515245, 231132.7526984 ,  34890.40486468,  32827.59802858,\n",
              "        64043.13995707,  60985.56194761,  31281.00513928,  75453.67992267,\n",
              "        39063.8952046 ,  25167.97965395,  23898.17946976,  30839.87656712,\n",
              "        54255.63644319,  20947.64783531,  39486.78642486,  30251.56735893,\n",
              "        20467.57739002,  35436.1116153 ,  56860.35491855,  22297.98976728,\n",
              "        25565.3651887 , 113307.5956026 ,  20590.47109296,  20180.1035739 ,\n",
              "        36970.9655436 ,  21155.26781363,  39827.34444413,  24939.43807298,\n",
              "        44765.20539965,  66242.1319509 ,  37869.75883177,  20690.085372  ,\n",
              "        69536.43405892,  51314.16751872,  33529.90576487, 171414.733699  ,\n",
              "        38479.3549089 ,  23705.85353157,  24147.94322021,  20043.94601315,\n",
              "        45901.40165147,  23830.91276231,  22696.6616294 ,  29836.22466673,\n",
              "        92060.81161706,  55707.69763287,  61137.8600316 ,  30131.10987477,\n",
              "        42608.89734037,  36137.06589671,  28511.43042205, 248080.52576343,\n",
              "        57257.91416345, 338394.34279508,  43649.55254356,  90965.32618245,\n",
              "        28131.28822137,  31416.65791343,  26105.12299412,  34848.37072339,\n",
              "        48854.63815696,  24254.13810272, 230695.75320882,  28898.05246151,\n",
              "        30330.20308735,  87536.81576906, 277333.11360369, 119189.51984972,\n",
              "        24689.23670917,  33069.25235812,  28347.87417706,  23003.13690496,\n",
              "        22560.88481512, 144036.5591469 ,  25716.41075311,  29695.26631211,\n",
              "        23757.55550791,  37980.06540434,  48947.12240887,  32509.26544123,\n",
              "        33511.36343304,  24562.72581494,  21763.91647235,  90597.05952658,\n",
              "        26625.83299041,  26964.70218726,  49569.77866781, 121636.97607943,\n",
              "        33173.54109544,  34147.82801451,  30597.10438933,  20931.02069965,\n",
              "       206115.84644395,  31936.21264581,  30772.51214154,  90807.71017317,\n",
              "        73201.72850381,  27576.4637922 ,  26373.10706   ,  21669.44532185,\n",
              "        26439.56169452,  31768.11354993,  32110.9261671 ,  54782.39564407,\n",
              "        22902.1720249 ,  33028.67026309,  52420.07549969,  76741.04721993,\n",
              "        58465.95852884,  70137.1198871 ,  58720.22469475,  35285.0364915 ,\n",
              "        23602.72026985,  20940.60986995, 264652.63443142,  22026.95021194,\n",
              "        23098.15229126,  31541.8158943 , 118378.58608774,  26385.87629907,\n",
              "        48712.66638623,  23583.90724704,  26419.8012533 ,  33245.40954947,\n",
              "        21846.20652894,  92793.11447437,  33419.86988327, 194101.08337865,\n",
              "        73576.6792119 ,  34459.72926618, 229330.63696596, 181038.68521819,\n",
              "        84107.86061501, 215694.00396253,  55489.64882732,  29245.40900249,\n",
              "        27479.55642292,  42675.60641322,  22292.30525679,  41232.33097805,\n",
              "        44240.33559789,  22280.39485386,  21471.02883671,  33425.68973925,\n",
              "        40761.95656096,  72285.41400755,  52979.72560195,  83297.03651972,\n",
              "        22389.75400802,  20058.69867132,  21226.05350376, 108825.74172291,\n",
              "        20175.6371728 , 128925.79953969,  24692.90042851,  32236.68012274,\n",
              "        46182.38547929,  40901.22706792,  36800.93551446, 126169.39756825,\n",
              "        29469.81182129, 388372.5522687 ,  44115.76914137,  26718.91478138,\n",
              "        37349.62612208,  69229.61775832,  20723.10967102,  25593.11101371,\n",
              "        25173.67534696,  65046.19763702,  65686.77556114,  46055.30515958,\n",
              "        56422.71113557,  22471.07715177,  45219.15416579,  38942.97918119,\n",
              "        29046.45113539,  27533.01789061,  35823.19971046,  26159.12584376,\n",
              "        27707.04302371,  41502.32146436,  24772.97592135,  40050.03929503,\n",
              "        27912.25594748,  45578.66915735,  83673.24347379,  26693.2047339 ,\n",
              "        46901.90461584,  29129.58464646,  21161.35836058, 168685.40922803,\n",
              "        36506.55907846,  57322.42441396,  24745.17153252,  37898.72276616,\n",
              "       103873.04933251,  60561.20584056, 305566.48393506,  24336.5635048 ,\n",
              "        39014.51096773,  34056.71328705,  96168.73871216,  28296.23109642,\n",
              "       208324.79530541,  34244.86513727,  21452.48650488, 138033.60250065,\n",
              "        20768.04437298,  30054.50432867,  23873.395385  ,  23939.73053452,\n",
              "        27442.87779572,  26285.80922036,  22984.19139052,  26926.53475969,\n",
              "       106300.03663956,  19989.40178156,  33918.75335137,  23317.14129055,\n",
              "        60820.6992376 ,  29925.84337044,  72024.05733726,  29925.65542426,\n",
              "       594362.7056512 ,  40250.21527152,  39271.85022986,  36150.87113647,\n",
              "        33254.75914326, 147173.10169988,  35817.65054546,  20626.33764723,\n",
              "        41862.67778902,  32142.8852057 ,  39092.97108359,  71485.10702369,\n",
              "        21380.88874182,  47837.19462661,  43580.44383149,  23670.50317208,\n",
              "        34849.25358012,  21724.53093539, 178980.51591532,  30102.82266782,\n",
              "        31762.5906842 ,  29588.45130681,  29670.70564706,  52261.17989699,\n",
              "        21091.65543435,  34486.93370923,  53702.40006186,  47636.74844059,\n",
              "        37353.36773529,  20746.6597859 , 161027.0717972 , 107058.10151357,\n",
              "        31418.49663039,  27611.1726403 ,  72001.52409624,  84002.79875663,\n",
              "        40902.71586829,  21998.05744644,  26981.34968226,  35827.31337285,\n",
              "        74591.56124118,  23420.40890833,  22418.71794241,  48913.13856482,\n",
              "        21237.96390668,  27893.71361564,  20589.11763808,  54545.97270415,\n",
              "        21661.86597453,  23708.24110547,  45703.28497572,  33271.93726509,\n",
              "        85608.93776647,  53937.97677698,  77350.30831938,  62097.68391517,\n",
              "        37859.86784279,  27087.05450825,  30125.39392847,  25025.20134682,\n",
              "        25735.3591214 ,  23674.66951488,  25187.88662318,  78106.73933015,\n",
              "       400619.46861229,  33361.29085978,  38336.70076474,  35926.87435413,\n",
              "        25549.2030979 ,  92929.01552846,  32505.61111306,  66768.90887149,\n",
              "        56903.53012916,  46594.96927561,  41347.59648675,  54162.51266099,\n",
              "        43987.88766   ,  99101.27563022,  21287.7710462 ,  29895.2026895 ,\n",
              "        33543.45683108,  21484.29269451,  34635.27236388,  28788.8953951 ,\n",
              "        47220.03316878,  26934.73718125, 438482.16736676, 264233.22372085,\n",
              "        40311.11033884,  67079.109391  ,  29704.50089717,  59996.64404256,\n",
              "        21667.95652148,  52763.37482708,  40438.88688153,  30828.5451735 ,\n",
              "        44903.48821766,  25342.45117027,  27943.38540967,  22621.46548316,\n",
              "        51480.64246874,  32683.65220297,  48974.85610727,  22995.96644796,\n",
              "        23943.79089915,  92438.98161282,  25197.22546184,  29129.41791943,\n",
              "        30220.45244122, 147852.60363654,  30408.70347029, 273816.43672264,\n",
              "        63067.02829892,  25169.20894586,  27091.65625483,  26751.26235297,\n",
              "        22533.22022511,  81706.06732861,  30167.85871167,  22052.47305238,\n",
              "        59044.47318258,  67718.98806073,  39680.56534108,  39571.59299559,\n",
              "       161152.39025692,  29857.23495022,  22314.42507121,  41310.51182309,\n",
              "        76999.87777206,  21620.0442188 ,  28542.28919327,  67295.76272032,\n",
              "        26804.18243871,  21807.63306491,  48922.9883336 ,  23252.47544117,\n",
              "       197723.85305113,  37134.12861428,  40562.97758887,  24682.44317095,\n",
              "        26723.1104915 ,  43576.33063465,  40795.79293291,  89014.78849604,\n",
              "        59323.32723685,  26479.93998396,  56554.27109264, 112913.57061738,\n",
              "        57408.51963759,  21662.272011  ,  46920.1762567 , 125620.66087311,\n",
              "        36770.57030245,  23159.86983371,  52090.10320039,  31925.52035227,\n",
              "        26793.94184515,  45325.12968276,  20544.31828162,  23275.4548803 ,\n",
              "       221639.0506442 , 284651.79272009,  25434.62144747,  23074.19613992,\n",
              "        31880.19953873, 123109.39066657,  31785.03173591,  37201.41950103,\n",
              "        23574.56840838,  27529.60050237, 138381.23828897,  70803.22141959,\n",
              "        28785.35462696,  32523.74740842,  77036.58833414,  72715.96204797,\n",
              "        57723.80329219,  24786.45190631,  52875.08408522,  24389.9958238 ,\n",
              "        39890.86229508,  30120.41758123,  57451.04321649,  28864.68214525,\n",
              "        68738.54562047,  23957.86682988,  24425.07945383,  33658.89001476,\n",
              "        91732.11985497,  31553.04956979,  27229.40382153,  26799.8513831 ,\n",
              "        20978.64195202, 276187.27565569,  97657.49200561,  22359.16592777,\n",
              "       217916.85301019,  23230.52017835,  64469.61358919, 129196.29228228,\n",
              "        40561.64523899,  25377.09961515,  33244.00921586,  20356.18805355,\n",
              "        21940.27164297,  36314.62127615,  43215.95869079,  34276.33613019,\n",
              "        20502.76721685,  20458.10320587,  27600.69063452, 159731.43918077,\n",
              "       104838.08550898,  24418.04148847,  38046.70593285,  21662.94873843,\n",
              "        67517.53283783,  62333.87680724,  63240.7917259 ,  22454.69409366,\n",
              "        29592.84086972,  68482.46211547, 341241.60496573, 100237.38513845,\n",
              "        30001.8549339 ,  27258.82219035,  37036.0306268 ,  30061.76011044])"
            ]
          },
          "metadata": {},
          "execution_count": 24
        }
      ]
    },
    {
      "cell_type": "code",
      "source": [
        "#one method of checking how good the prediction is\n",
        "plt.figure(figsize=(7, 5))\n",
        "plt.scatter(y_test,predictions)\n",
        "# there are some outliers but for the lower values the model has been accurate"
      ],
      "metadata": {
        "colab": {
          "base_uri": "https://localhost:8080/",
          "height": 342
        },
        "id": "ABJFrGiwipXB",
        "outputId": "517a7538-ea61-4bb4-c11b-3ae412a9fd9e"
      },
      "execution_count": null,
      "outputs": [
        {
          "output_type": "execute_result",
          "data": {
            "text/plain": [
              "<matplotlib.collections.PathCollection at 0x7fd83e55b750>"
            ]
          },
          "metadata": {},
          "execution_count": 67
        },
        {
          "output_type": "display_data",
          "data": {
            "text/plain": [
              "<Figure size 504x360 with 1 Axes>"
            ],
            "image/png": "[encoded data removed]"
          },
          "metadata": {}
        }
      ]
    },
    {
      "cell_type": "code",
      "source": [
        "plt.figure(figsize=(7, 5))\n",
        "sns.distplot(y_test-predictions)#histogram of residuals, basically the error\n",
        "#a normally distributed histogram for residuals is a sign that the model has been a correct choice for the data "
      ],
      "metadata": {
        "colab": {
          "base_uri": "https://localhost:8080/",
          "height": 421
        },
        "id": "mGQoxEWLk7m-",
        "outputId": "ca665062-c161-42b4-90a9-59e10746baa1"
      },
      "execution_count": null,
      "outputs": [
        {
          "output_type": "stream",
          "name": "stderr",
          "text": [
            "/usr/local/lib/python3.7/dist-packages/seaborn/distributions.py:2619: FutureWarning: `distplot` is a deprecated function and will be removed in a future version. Please adapt your code to use either `displot` (a figure-level function with similar flexibility) or `histplot` (an axes-level function for histograms).\n",
            "  warnings.warn(msg, FutureWarning)\n"
          ]
        },
        {
          "output_type": "execute_result",
          "data": {
            "text/plain": [
              "<matplotlib.axes._subplots.AxesSubplot at 0x7fd841554790>"
            ]
          },
          "metadata": {},
          "execution_count": 26
        },
        {
          "output_type": "display_data",
          "data": {
            "text/plain": [
              "<Figure size 504x360 with 1 Axes>"
            ],
            "image/png": "[encoded data removed]"
          },
          "metadata": {
            "needs_background": "light"
          }
        }
      ]
    },
    {
      "cell_type": "code",
      "source": [
        "#regression evaluation\n",
        "from sklearn import metrics\n",
        "print(metrics.mean_absolute_error(y_test,predictions))\n",
        "print(metrics.mean_squared_error(y_test,predictions))\n",
        "print(np.sqrt(metrics.mean_squared_error(y_test,predictions)))#rmse"
      ],
      "metadata": {
        "colab": {
          "base_uri": "https://localhost:8080/"
        },
        "id": "lwkcmhH1k7ks",
        "outputId": "d2a0e50b-8cfa-46a8-aa1c-8d52ab61b750"
      },
      "execution_count": null,
      "outputs": [
        {
          "output_type": "stream",
          "name": "stdout",
          "text": [
            "25294.27601361728\n",
            "2480591307.1035857\n",
            "49805.53490430141\n"
          ]
        }
      ]
    },
    {
      "cell_type": "code",
      "source": [
        "#now that we've trained our model and run evaluations which indicate a good model we can vizualize"
      ],
      "metadata": {
        "id": "AgZL_R_ak7d9"
      },
      "execution_count": null,
      "outputs": []
    },
    {
      "cell_type": "code",
      "source": [
        "predictions_df = pd.DataFrame(list(zip(y_test, predictions)),\n",
        "               columns =['actual_y_test','predictions for 2022'])"
      ],
      "metadata": {
        "id": "hhnp-9nLeaF8"
      },
      "execution_count": null,
      "outputs": []
    },
    {
      "cell_type": "code",
      "source": [
        "predictions_df"
      ],
      "metadata": {
        "colab": {
          "base_uri": "https://localhost:8080/",
          "height": 423
        },
        "id": "R8yrYMc-nR_A",
        "outputId": "c68136f9-5e63-4e70-a458-d6e5bdfee0b8"
      },
      "execution_count": null,
      "outputs": [
        {
          "output_type": "execute_result",
          "data": {
            "text/plain": [
              "     actual_y_test  predictions for 2022\n",
              "0           118362         118601.988861\n",
              "1            93416          51256.104304\n",
              "2            56690          41670.260130\n",
              "3            36027          36334.941000\n",
              "4            79764          40364.311518\n",
              "..             ...                   ...\n",
              "715          91133         100237.385138\n",
              "716          10214          30001.854934\n",
              "717          13161          27258.822190\n",
              "718          53713          37036.030627\n",
              "719          13073          30061.760110\n",
              "\n",
              "[720 rows x 2 columns]"
            ],
            "text/html": [
              "\n",
              "  <div id=\"df-63af2cfc-cbbc-4e46-a43b-d6fba5118ce5\">\n",
              "    <div class=\"colab-df-container\">\n",
              "      <div>\n",
              "<style scoped>\n",
              "    .dataframe tbody tr th:only-of-type {\n",
              "        vertical-align: middle;\n",
              "    }\n",
              "\n",
              "    .dataframe tbody tr th {\n",
              "        vertical-align: top;\n",
              "    }\n",
              "\n",
              "    .dataframe thead th {\n",
              "        text-align: right;\n",
              "    }\n",
              "</style>\n",
              "<table border=\"1\" class=\"dataframe\">\n",
              "  <thead>\n",
              "    <tr style=\"text-align: right;\">\n",
              "      <th></th>\n",
              "      <th>actual_y_test</th>\n",
              "      <th>predictions for 2022</th>\n",
              "    </tr>\n",
              "  </thead>\n",
              "  <tbody>\n",
              "    <tr>\n",
              "      <th>0</th>\n",
              "      <td>118362</td>\n",
              "      <td>118601.988861</td>\n",
              "    </tr>\n",
              "    <tr>\n",
              "      <th>1</th>\n",
              "      <td>93416</td>\n",
              "      <td>51256.104304</td>\n",
              "    </tr>\n",
              "    <tr>\n",
              "      <th>2</th>\n",
              "      <td>56690</td>\n",
              "      <td>41670.260130</td>\n",
              "    </tr>\n",
              "    <tr>\n",
              "      <th>3</th>\n",
              "      <td>36027</td>\n",
              "      <td>36334.941000</td>\n",
              "    </tr>\n",
              "    <tr>\n",
              "      <th>4</th>\n",
              "      <td>79764</td>\n",
              "      <td>40364.311518</td>\n",
              "    </tr>\n",
              "    <tr>\n",
              "      <th>...</th>\n",
              "      <td>...</td>\n",
              "      <td>...</td>\n",
              "    </tr>\n",
              "    <tr>\n",
              "      <th>715</th>\n",
              "      <td>91133</td>\n",
              "      <td>100237.385138</td>\n",
              "    </tr>\n",
              "    <tr>\n",
              "      <th>716</th>\n",
              "      <td>10214</td>\n",
              "      <td>30001.854934</td>\n",
              "    </tr>\n",
              "    <tr>\n",
              "      <th>717</th>\n",
              "      <td>13161</td>\n",
              "      <td>27258.822190</td>\n",
              "    </tr>\n",
              "    <tr>\n",
              "      <th>718</th>\n",
              "      <td>53713</td>\n",
              "      <td>37036.030627</td>\n",
              "    </tr>\n",
              "    <tr>\n",
              "      <th>719</th>\n",
              "      <td>13073</td>\n",
              "      <td>30061.760110</td>\n",
              "    </tr>\n",
              "  </tbody>\n",
              "</table>\n",
              "<p>720 rows × 2 columns</p>\n",
              "</div>\n",
              "      <button class=\"colab-df-convert\" onclick=\"convertToInteractive('df-63af2cfc-cbbc-4e46-a43b-d6fba5118ce5')\"\n",
              "              title=\"Convert this dataframe to an interactive table.\"\n",
              "              style=\"display:none;\">\n",
              "        \n",
              "  <svg xmlns=\"http://www.w3.org/2000/svg\" height=\"24px\"viewBox=\"0 0 24 24\"\n",
              "       width=\"24px\">\n",
              "    <path d=\"M0 0h24v24H0V0z\" fill=\"none\"/>\n",
              "    <path d=\"M18.56 5.44l.94 2.06.94-2.06 2.06-.94-2.06-.94-.94-2.06-.94 2.06-2.06.94zm-11 1L8.5 8.5l.94-2.06 2.06-.94-2.06-.94L8.5 2.5l-.94 2.06-2.06.94zm10 10l.94 2.06.94-2.06 2.06-.94-2.06-.94-.94-2.06-.94 2.06-2.06.94z\"/><path d=\"M17.41 7.96l-1.37-1.37c-.4-.4-.92-.59-1.43-.59-.52 0-1.04.2-1.43.59L10.3 9.45l-7.72 7.72c-.78.78-.78 2.05 0 2.83L4 21.41c.39.39.9.59 1.41.59.51 0 1.02-.2 1.41-.59l7.78-7.78 2.81-2.81c.8-.78.8-2.07 0-2.86zM5.41 20L4 18.59l7.72-7.72 1.47 1.35L5.41 20z\"/>\n",
              "  </svg>\n",
              "      </button>\n",
              "      \n",
              "  <style>\n",
              "    .colab-df-container {\n",
              "      display:flex;\n",
              "      flex-wrap:wrap;\n",
              "      gap: 12px;\n",
              "    }\n",
              "\n",
              "    .colab-df-convert {\n",
              "      background-color: #E8F0FE;\n",
              "      border: none;\n",
              "      border-radius: 50%;\n",
              "      cursor: pointer;\n",
              "      display: none;\n",
              "      fill: #1967D2;\n",
              "      height: 32px;\n",
              "      padding: 0 0 0 0;\n",
              "      width: 32px;\n",
              "    }\n",
              "\n",
              "    .colab-df-convert:hover {\n",
              "      background-color: #E2EBFA;\n",
              "      box-shadow: 0px 1px 2px rgba(60, 64, 67, 0.3), 0px 1px 3px 1px rgba(60, 64, 67, 0.15);\n",
              "      fill: #174EA6;\n",
              "    }\n",
              "\n",
              "    [theme=dark] .colab-df-convert {\n",
              "      background-color: #3B4455;\n",
              "      fill: #D2E3FC;\n",
              "    }\n",
              "\n",
              "    [theme=dark] .colab-df-convert:hover {\n",
              "      background-color: #434B5C;\n",
              "      box-shadow: 0px 1px 3px 1px rgba(0, 0, 0, 0.15);\n",
              "      filter: drop-shadow(0px 1px 2px rgba(0, 0, 0, 0.3));\n",
              "      fill: #FFFFFF;\n",
              "    }\n",
              "  </style>\n",
              "\n",
              "      <script>\n",
              "        const buttonEl =\n",
              "          document.querySelector('#df-63af2cfc-cbbc-4e46-a43b-d6fba5118ce5 button.colab-df-convert');\n",
              "        buttonEl.style.display =\n",
              "          google.colab.kernel.accessAllowed ? 'block' : 'none';\n",
              "\n",
              "        async function convertToInteractive(key) {\n",
              "          const element = document.querySelector('#df-63af2cfc-cbbc-4e46-a43b-d6fba5118ce5');\n",
              "          const dataTable =\n",
              "            await google.colab.kernel.invokeFunction('convertToInteractive',\n",
              "                                                     [key], {});\n",
              "          if (!dataTable) return;\n",
              "\n",
              "          const docLinkHtml = 'Like what you see? Visit the ' +\n",
              "            '<a target=\"_blank\" href=https://colab.research.google.com/notebooks/data_table.ipynb>data table notebook</a>'\n",
              "            + ' to learn more about interactive tables.';\n",
              "          element.innerHTML = '';\n",
              "          dataTable['output_type'] = 'display_data';\n",
              "          await google.colab.output.renderOutput(dataTable, element);\n",
              "          const docLink = document.createElement('div');\n",
              "          docLink.innerHTML = docLinkHtml;\n",
              "          element.appendChild(docLink);\n",
              "        }\n",
              "      </script>\n",
              "    </div>\n",
              "  </div>\n",
              "  "
            ]
          },
          "metadata": {},
          "execution_count": 69
        }
      ]
    },
    {
      "cell_type": "code",
      "source": [
        "# Q5 PART 2 (i)"
      ],
      "metadata": {
        "id": "6aBs9ix_hZat"
      },
      "execution_count": null,
      "outputs": []
    },
    {
      "cell_type": "code",
      "source": [
        "sns.set_theme()\n",
        "palette = sns.color_palette(\"husl\", 12)\n",
        "sns.lineplot(data=predictions_df, x = 'predictions for 2022', y='actual_y_test', palette = palette, err_style='bars').set(title='Q5 PART 2 (i)')"
      ],
      "metadata": {
        "colab": {
          "base_uri": "https://localhost:8080/",
          "height": 645
        },
        "id": "R_TlnKc4eE6c",
        "outputId": "31917eff-1f03-4e86-a2f3-c3532f788ec0"
      },
      "execution_count": null,
      "outputs": [
        {
          "output_type": "execute_result",
          "data": {
            "text/plain": [
              "[Text(0.5, 1.0, 'Q5 PART 2 (i)')]"
            ]
          },
          "metadata": {},
          "execution_count": 71
        },
        {
          "output_type": "display_data",
          "data": {
            "text/plain": [
              "<Figure size 1080x720 with 1 Axes>"
            ],
            "image/png": "[encoded data removed]"
          },
          "metadata": {}
        }
      ]
    },
    {
      "cell_type": "code",
      "source": [
        "# as we saw in the scatter plot, the beginning of the model seems promising but not later on"
      ],
      "metadata": {
        "id": "iBBfWBXeem5L"
      },
      "execution_count": null,
      "outputs": []
    },
    {
      "cell_type": "code",
      "source": [
        "#------------"
      ],
      "metadata": {
        "id": "IqrW51s2em2y"
      },
      "execution_count": null,
      "outputs": []
    },
    {
      "cell_type": "code",
      "source": [
        "#PREDICTIONS FOR 2021, Question 2\n",
        "\n",
        "df_2021 = clean_df.loc[(clean_df['Year'] != 2021)]"
      ],
      "metadata": {
        "id": "yh-2Mgbjo5LC"
      },
      "execution_count": null,
      "outputs": []
    },
    {
      "cell_type": "code",
      "source": [
        "X_2021 = df_2021[['How_many_Landed_on_our_Page?', 'How_many_Landed_on_the_our_Page_and_clicked_on_a_button?',\n",
        "              'How_many_Landed_on_the_our_Page_and_clicked_on_a_button_and_started_filling_the_Form?']]#using only the relevant variables for training\n",
        "y_2021 = df_2021['How_many_Landed_on_the_our_Page_and_clicked_on_a_button_and_started_filling_the_Form_and_Completed_and_submited_the_form?']"
      ],
      "metadata": {
        "id": "fDHiT7LSpjVP"
      },
      "execution_count": null,
      "outputs": []
    },
    {
      "cell_type": "code",
      "source": [
        "#test_train_split\n",
        "from sklearn.model_selection import train_test_split\n",
        "X_2021_train, X_2021_test, y_2021_train, y_2021_test = train_test_split(X_2021, y_2021, test_size=0.33, random_state=42)\n",
        "lm_2021 = LinearRegression()\n",
        "lm_2021.fit(X_2021_train, y_2021_train)"
      ],
      "metadata": {
        "colab": {
          "base_uri": "https://localhost:8080/"
        },
        "id": "Io0JFdWMpjQd",
        "outputId": "7e649927-7eac-4696-cf6a-e012096790fe"
      },
      "execution_count": null,
      "outputs": [
        {
          "output_type": "execute_result",
          "data": {
            "text/plain": [
              "LinearRegression()"
            ]
          },
          "metadata": {},
          "execution_count": 34
        }
      ]
    },
    {
      "cell_type": "code",
      "source": [
        "predictions_2021 = lm_2021.predict(X_2021_test)"
      ],
      "metadata": {
        "id": "9Qemu7DwpjN9"
      },
      "execution_count": null,
      "outputs": []
    },
    {
      "cell_type": "code",
      "source": [
        "plt.figure(figsize=(7, 5))\n",
        "plt.scatter(y_2021_test, predictions_2021)\n",
        "#we can see that the model has worked okay"
      ],
      "metadata": {
        "colab": {
          "base_uri": "https://localhost:8080/",
          "height": 338
        },
        "id": "1gvc3QgLpjLb",
        "outputId": "0a61015e-5fa3-422f-d93b-e35329e99510"
      },
      "execution_count": null,
      "outputs": [
        {
          "output_type": "execute_result",
          "data": {
            "text/plain": [
              "<matplotlib.collections.PathCollection at 0x7fd840fa7a50>"
            ]
          },
          "metadata": {},
          "execution_count": 37
        },
        {
          "output_type": "display_data",
          "data": {
            "text/plain": [
              "<Figure size 504x360 with 1 Axes>"
            ],
            "image/png": "[encoded data removed]"
          },
          "metadata": {
            "needs_background": "light"
          }
        }
      ]
    },
    {
      "cell_type": "code",
      "source": [
        "def mape(y_test, pred):#defining a mape function since it doesn't come in-built\n",
        "    y_test, pred = np.array(y_test), np.array(pred)\n",
        "    mape = np.mean(np.abs((y_test - pred) / y_test))\n",
        "    return mape"
      ],
      "metadata": {
        "id": "0FzGXgV1r1eo"
      },
      "execution_count": null,
      "outputs": []
    },
    {
      "cell_type": "code",
      "source": [
        "mape(y_2021_test, predictions_2021)\n",
        "# 42% indicates a relatively good score"
      ],
      "metadata": {
        "colab": {
          "base_uri": "https://localhost:8080/"
        },
        "id": "zXIUaahItZ3M",
        "outputId": "9aec7090-9050-4f98-f3d1-91e19e64d23e"
      },
      "execution_count": null,
      "outputs": [
        {
          "output_type": "execute_result",
          "data": {
            "text/plain": [
              "0.4228156823609447"
            ]
          },
          "metadata": {},
          "execution_count": 39
        }
      ]
    },
    {
      "cell_type": "code",
      "source": [
        "predictions_2021_df = pd.DataFrame(list(zip(y_2021_test, predictions_2021)),\n",
        "               columns =['actual_y_test_2021','predictions for 2021'])"
      ],
      "metadata": {
        "id": "kWNEEfsvfXQy"
      },
      "execution_count": null,
      "outputs": []
    },
    {
      "cell_type": "code",
      "source": [
        "predictions_2021_df.head()"
      ],
      "metadata": {
        "colab": {
          "base_uri": "https://localhost:8080/",
          "height": 206
        },
        "id": "IYZoK1vmfgBZ",
        "outputId": "9a109441-403c-4148-aab2-5cfce9810983"
      },
      "execution_count": null,
      "outputs": [
        {
          "output_type": "execute_result",
          "data": {
            "text/plain": [
              "   actual_y_test_2021  predictions for 2021\n",
              "0              287941         263889.743842\n",
              "1               24772          31301.949775\n",
              "2               99875          89545.857648\n",
              "3               20261          23763.140281\n",
              "4               57024          65456.662334"
            ],
            "text/html": [
              "\n",
              "  <div id=\"df-e9c74356-129d-410a-9d48-8a30aa2245f6\">\n",
              "    <div class=\"colab-df-container\">\n",
              "      <div>\n",
              "<style scoped>\n",
              "    .dataframe tbody tr th:only-of-type {\n",
              "        vertical-align: middle;\n",
              "    }\n",
              "\n",
              "    .dataframe tbody tr th {\n",
              "        vertical-align: top;\n",
              "    }\n",
              "\n",
              "    .dataframe thead th {\n",
              "        text-align: right;\n",
              "    }\n",
              "</style>\n",
              "<table border=\"1\" class=\"dataframe\">\n",
              "  <thead>\n",
              "    <tr style=\"text-align: right;\">\n",
              "      <th></th>\n",
              "      <th>actual_y_test_2021</th>\n",
              "      <th>predictions for 2021</th>\n",
              "    </tr>\n",
              "  </thead>\n",
              "  <tbody>\n",
              "    <tr>\n",
              "      <th>0</th>\n",
              "      <td>287941</td>\n",
              "      <td>263889.743842</td>\n",
              "    </tr>\n",
              "    <tr>\n",
              "      <th>1</th>\n",
              "      <td>24772</td>\n",
              "      <td>31301.949775</td>\n",
              "    </tr>\n",
              "    <tr>\n",
              "      <th>2</th>\n",
              "      <td>99875</td>\n",
              "      <td>89545.857648</td>\n",
              "    </tr>\n",
              "    <tr>\n",
              "      <th>3</th>\n",
              "      <td>20261</td>\n",
              "      <td>23763.140281</td>\n",
              "    </tr>\n",
              "    <tr>\n",
              "      <th>4</th>\n",
              "      <td>57024</td>\n",
              "      <td>65456.662334</td>\n",
              "    </tr>\n",
              "  </tbody>\n",
              "</table>\n",
              "</div>\n",
              "      <button class=\"colab-df-convert\" onclick=\"convertToInteractive('df-e9c74356-129d-410a-9d48-8a30aa2245f6')\"\n",
              "              title=\"Convert this dataframe to an interactive table.\"\n",
              "              style=\"display:none;\">\n",
              "        \n",
              "  <svg xmlns=\"http://www.w3.org/2000/svg\" height=\"24px\"viewBox=\"0 0 24 24\"\n",
              "       width=\"24px\">\n",
              "    <path d=\"M0 0h24v24H0V0z\" fill=\"none\"/>\n",
              "    <path d=\"M18.56 5.44l.94 2.06.94-2.06 2.06-.94-2.06-.94-.94-2.06-.94 2.06-2.06.94zm-11 1L8.5 8.5l.94-2.06 2.06-.94-2.06-.94L8.5 2.5l-.94 2.06-2.06.94zm10 10l.94 2.06.94-2.06 2.06-.94-2.06-.94-.94-2.06-.94 2.06-2.06.94z\"/><path d=\"M17.41 7.96l-1.37-1.37c-.4-.4-.92-.59-1.43-.59-.52 0-1.04.2-1.43.59L10.3 9.45l-7.72 7.72c-.78.78-.78 2.05 0 2.83L4 21.41c.39.39.9.59 1.41.59.51 0 1.02-.2 1.41-.59l7.78-7.78 2.81-2.81c.8-.78.8-2.07 0-2.86zM5.41 20L4 18.59l7.72-7.72 1.47 1.35L5.41 20z\"/>\n",
              "  </svg>\n",
              "      </button>\n",
              "      \n",
              "  <style>\n",
              "    .colab-df-container {\n",
              "      display:flex;\n",
              "      flex-wrap:wrap;\n",
              "      gap: 12px;\n",
              "    }\n",
              "\n",
              "    .colab-df-convert {\n",
              "      background-color: #E8F0FE;\n",
              "      border: none;\n",
              "      border-radius: 50%;\n",
              "      cursor: pointer;\n",
              "      display: none;\n",
              "      fill: #1967D2;\n",
              "      height: 32px;\n",
              "      padding: 0 0 0 0;\n",
              "      width: 32px;\n",
              "    }\n",
              "\n",
              "    .colab-df-convert:hover {\n",
              "      background-color: #E2EBFA;\n",
              "      box-shadow: 0px 1px 2px rgba(60, 64, 67, 0.3), 0px 1px 3px 1px rgba(60, 64, 67, 0.15);\n",
              "      fill: #174EA6;\n",
              "    }\n",
              "\n",
              "    [theme=dark] .colab-df-convert {\n",
              "      background-color: #3B4455;\n",
              "      fill: #D2E3FC;\n",
              "    }\n",
              "\n",
              "    [theme=dark] .colab-df-convert:hover {\n",
              "      background-color: #434B5C;\n",
              "      box-shadow: 0px 1px 3px 1px rgba(0, 0, 0, 0.15);\n",
              "      filter: drop-shadow(0px 1px 2px rgba(0, 0, 0, 0.3));\n",
              "      fill: #FFFFFF;\n",
              "    }\n",
              "  </style>\n",
              "\n",
              "      <script>\n",
              "        const buttonEl =\n",
              "          document.querySelector('#df-e9c74356-129d-410a-9d48-8a30aa2245f6 button.colab-df-convert');\n",
              "        buttonEl.style.display =\n",
              "          google.colab.kernel.accessAllowed ? 'block' : 'none';\n",
              "\n",
              "        async function convertToInteractive(key) {\n",
              "          const element = document.querySelector('#df-e9c74356-129d-410a-9d48-8a30aa2245f6');\n",
              "          const dataTable =\n",
              "            await google.colab.kernel.invokeFunction('convertToInteractive',\n",
              "                                                     [key], {});\n",
              "          if (!dataTable) return;\n",
              "\n",
              "          const docLinkHtml = 'Like what you see? Visit the ' +\n",
              "            '<a target=\"_blank\" href=https://colab.research.google.com/notebooks/data_table.ipynb>data table notebook</a>'\n",
              "            + ' to learn more about interactive tables.';\n",
              "          element.innerHTML = '';\n",
              "          dataTable['output_type'] = 'display_data';\n",
              "          await google.colab.output.renderOutput(dataTable, element);\n",
              "          const docLink = document.createElement('div');\n",
              "          docLink.innerHTML = docLinkHtml;\n",
              "          element.appendChild(docLink);\n",
              "        }\n",
              "      </script>\n",
              "    </div>\n",
              "  </div>\n",
              "  "
            ]
          },
          "metadata": {},
          "execution_count": 76
        }
      ]
    },
    {
      "cell_type": "code",
      "source": [
        "# Q5 Part 2 (ii)"
      ],
      "metadata": {
        "id": "DXjZ_APehssd"
      },
      "execution_count": null,
      "outputs": []
    },
    {
      "cell_type": "code",
      "source": [
        "sns.set_theme()\n",
        "palette = sns.color_palette(\"husl\", 12)\n",
        "sns.lineplot(data=predictions_2021_df, x = 'predictions for 2021', y='actual_y_test_2021', palette = palette, err_style='bars').set(title='Q5 PART 2 (ii)')"
      ],
      "metadata": {
        "colab": {
          "base_uri": "https://localhost:8080/",
          "height": 645
        },
        "id": "uBTJP-iTfKia",
        "outputId": "8f8cc602-0567-4583-d648-352cd85d0bcd"
      },
      "execution_count": null,
      "outputs": [
        {
          "output_type": "execute_result",
          "data": {
            "text/plain": [
              "[Text(0.5, 1.0, 'Q5 PART 2 (ii)')]"
            ]
          },
          "metadata": {},
          "execution_count": 78
        },
        {
          "output_type": "display_data",
          "data": {
            "text/plain": [
              "<Figure size 1080x720 with 1 Axes>"
            ],
            "image/png": "[encoded data removed]"
          },
          "metadata": {}
        }
      ]
    },
    {
      "cell_type": "markdown",
      "source": [
        "###### Part 5: Vizualization"
      ],
      "metadata": {
        "id": "In7LIu88Xy4E"
      }
    },
    {
      "cell_type": "code",
      "source": [
        "# A line graph for “How_many_Landed_on_the_our_Page_and_clicked_on_a_button?” for the different “Which_Place_in_India?” over the months of the year 2019 & 2020."
      ],
      "metadata": {
        "id": "4bUqCokUX2JP"
      },
      "execution_count": null,
      "outputs": []
    },
    {
      "cell_type": "code",
      "source": [
        "df_viz1 = clean_df.loc[clean_df['Year'] == 2019].copy()\n",
        "df_viz2 = clean_df.loc[clean_df['Year'] == 2020].copy()"
      ],
      "metadata": {
        "id": "tLbHHf4Ce74e"
      },
      "execution_count": null,
      "outputs": []
    },
    {
      "cell_type": "code",
      "source": [
        "sns.set_theme()\n",
        "palette = sns.color_palette(\"husl\", 12)\n",
        "sns.lineplot(data=df_viz1, x = 'Which_Place_in_India?', y='How_many_Landed_on_the_our_Page_and_clicked_on_a_button?', hue ='Month', palette = palette, err_style='bars').set(title='2019')"
      ],
      "metadata": {
        "colab": {
          "base_uri": "https://localhost:8080/",
          "height": 645
        },
        "id": "Tbw3XyPvZmS3",
        "outputId": "0d9f3894-b751-4c61-9e23-89c88b605bb1"
      },
      "execution_count": null,
      "outputs": [
        {
          "output_type": "execute_result",
          "data": {
            "text/plain": [
              "[Text(0.5, 1.0, '2019')]"
            ]
          },
          "metadata": {},
          "execution_count": 46
        },
        {
          "output_type": "display_data",
          "data": {
            "text/plain": [
              "<Figure size 1080x720 with 1 Axes>"
            ],
            "image/png": "[encoded data removed]"
          },
          "metadata": {}
        }
      ]
    },
    {
      "cell_type": "code",
      "source": [
        "sns.set_theme()\n",
        "palette = sns.color_palette(\"husl\", 12)\n",
        "sns.lineplot(data=df_viz2, x = 'Which_Place_in_India?', y='How_many_Landed_on_the_our_Page_and_clicked_on_a_button?', hue ='Month', palette = palette, err_style=None).set(title='2020')"
      ],
      "metadata": {
        "colab": {
          "base_uri": "https://localhost:8080/",
          "height": 645
        },
        "id": "RBbwN2D8Zw9F",
        "outputId": "8ca3ce3e-db88-4538-cec6-0473d3ab5ba6"
      },
      "execution_count": null,
      "outputs": [
        {
          "output_type": "execute_result",
          "data": {
            "text/plain": [
              "[Text(0.5, 1.0, '2020')]"
            ]
          },
          "metadata": {},
          "execution_count": 47
        },
        {
          "output_type": "display_data",
          "data": {
            "text/plain": [
              "<Figure size 1080x720 with 1 Axes>"
            ],
            "image/png": "[encoded data removed]"
          },
          "metadata": {}
        }
      ]
    },
    {
      "cell_type": "code",
      "source": [
        "# A line graph of the actual and projected number of “How_many_Landed_on_the_our_Page_and_clicked_on_a_button_and_started_filling_the_Form_and_Completed_and_submited_the_form?” \n",
        "# for the months of the year 2021 & 2022"
      ],
      "metadata": {
        "id": "WZ0dYUBbiEWc"
      },
      "execution_count": null,
      "outputs": []
    },
    {
      "cell_type": "code",
      "source": [
        "# answers for above included in the machine learning section"
      ],
      "metadata": {
        "id": "_dNtBTBxdlBh"
      },
      "execution_count": null,
      "outputs": []
    },
    {
      "cell_type": "code",
      "source": [],
      "metadata": {
        "id": "XkVXCtA0fQjT"
      },
      "execution_count": null,
      "outputs": []
    }
  ]
}